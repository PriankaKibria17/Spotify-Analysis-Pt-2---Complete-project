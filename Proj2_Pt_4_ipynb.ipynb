{
  "nbformat": 4,
  "nbformat_minor": 0,
  "metadata": {
    "colab": {
      "name": "Proj2 - Pt 4_ipynb",
      "provenance": [],
      "collapsed_sections": [],
      "authorship_tag": "ABX9TyOreLoD6O8CoK6VE92w8swa",
      "include_colab_link": true
    },
    "kernelspec": {
      "name": "python3",
      "display_name": "Python 3"
    },
    "language_info": {
      "name": "python"
    }
  },
  "cells": [
    {
      "cell_type": "markdown",
      "metadata": {
        "id": "view-in-github",
        "colab_type": "text"
      },
      "source": [
        "<a href=\"https://colab.research.google.com/github/PriankaKibria17/Spotify_Analysis/blob/main/Proj2_Pt_4_ipynb.ipynb\" target=\"_parent\"><img src=\"https://colab.research.google.com/assets/colab-badge.svg\" alt=\"Open In Colab\"/></a>"
      ]
    },
    {
      "cell_type": "markdown",
      "source": [
        "This data contains songs that have been played most frequently and have reached the Top 200 Weekly Global charts of spotify.\n",
        "\n",
        "source: https://www.kaggle.com/datasets/sashankpillai/spotify-top-200-charts-20202021/code "
      ],
      "metadata": {
        "id": "DxXsLwT9tBso"
      }
    },
    {
      "cell_type": "code",
      "execution_count": 68,
      "metadata": {
        "colab": {
          "base_uri": "https://localhost:8080/",
          "height": 0
        },
        "id": "jTuXrfyts1zH",
        "outputId": "fcdbc1ba-eac6-476c-9386-b1bd65493227"
      },
      "outputs": [
        {
          "output_type": "stream",
          "name": "stdout",
          "text": [
            "Drive already mounted at /content/drive; to attempt to forcibly remount, call drive.mount(\"/content/drive\", force_remount=True).\n"
          ]
        }
      ],
      "source": [
        "from google.colab import drive\n",
        "drive.mount('/content/drive')"
      ]
    },
    {
      "cell_type": "code",
      "source": [
        "import pandas as pd\n",
        "import matplotlib.pyplot as plt\n",
        "import seaborn as sns\n",
        "from sklearn.model_selection import train_test_split\n",
        "from sklearn.preprocessing import StandardScaler, LabelEncoder\n",
        "from sklearn.neighbors import KNeighborsClassifier\n",
        "from sklearn.decomposition import PCA\n",
        "from sklearn.pipeline import make_pipeline\n",
        "from sklearn.datasets import fetch_openml\n",
        "from sklearn.cluster import KMeans\n",
        "from sklearn.metrics import silhouette_score"
      ],
      "metadata": {
        "id": "SBfaAqfhtb7W"
      },
      "execution_count": 69,
      "outputs": []
    },
    {
      "cell_type": "code",
      "source": [
        "spotify = pd.read_csv('/content/drive/MyDrive/data/spotify_dataset.csv')\n",
        "spotify.head()"
      ],
      "metadata": {
        "colab": {
          "base_uri": "https://localhost:8080/",
          "height": 560
        },
        "id": "Ow24CzCktqxg",
        "outputId": "670ce896-ae5a-4a14-fba8-49dbe76c5a41"
      },
      "execution_count": 70,
      "outputs": [
        {
          "output_type": "execute_result",
          "data": {
            "text/plain": [
              "   Index  Highest Charting Position  Number of Times Charted  \\\n",
              "0      1                          1                        8   \n",
              "1      2                          2                        3   \n",
              "2      3                          1                       11   \n",
              "3      4                          3                        5   \n",
              "4      5                          5                        1   \n",
              "\n",
              "  Week of Highest Charting                          Song Name     Streams  \\\n",
              "0   2021-07-23--2021-07-30                            Beggin'  48,633,449   \n",
              "1   2021-07-23--2021-07-30          STAY (with Justin Bieber)  47,248,719   \n",
              "2   2021-06-25--2021-07-02                           good 4 u  40,162,559   \n",
              "3   2021-07-02--2021-07-09                         Bad Habits  37,799,456   \n",
              "4   2021-07-23--2021-07-30  INDUSTRY BABY (feat. Jack Harlow)  33,948,454   \n",
              "\n",
              "           Artist Artist Followers                 Song ID  \\\n",
              "0        Måneskin          3377762  3Wrjm47oTz2sjIgck11l5e   \n",
              "1   The Kid LAROI          2230022  5HCyWlXZPP0y6Gqq8TgA20   \n",
              "2  Olivia Rodrigo          6266514  4ZtFanR9U6ndgddUvNcjcG   \n",
              "3      Ed Sheeran         83293380  6PQ88X9TkUIAUIZJHW2upE   \n",
              "4       Lil Nas X          5473565  27NovPIUIRrOZoCHxABJwK   \n",
              "\n",
              "                                    Genre  ... Danceability Energy Loudness  \\\n",
              "0  ['indie rock italiano', 'italian pop']  ...        0.714    0.8   -4.808   \n",
              "1                  ['australian hip hop']  ...        0.591  0.764   -5.484   \n",
              "2                                 ['pop']  ...        0.563  0.664   -5.044   \n",
              "3                       ['pop', 'uk pop']  ...        0.808  0.897   -3.712   \n",
              "4           ['lgbtq+ hip hop', 'pop rap']  ...        0.736  0.704   -7.409   \n",
              "\n",
              "  Speechiness Acousticness Liveness    Tempo Duration (ms) Valence  Chord  \n",
              "0      0.0504        0.127    0.359  134.002        211560   0.589      B  \n",
              "1      0.0483       0.0383    0.103  169.928        141806   0.478  C#/Db  \n",
              "2       0.154        0.335   0.0849  166.928        178147   0.688      A  \n",
              "3      0.0348       0.0469    0.364  126.026        231041   0.591      B  \n",
              "4      0.0615       0.0203   0.0501  149.995        212000   0.894  D#/Eb  \n",
              "\n",
              "[5 rows x 23 columns]"
            ],
            "text/html": [
              "\n",
              "  <div id=\"df-c26a31e7-c01d-4433-8c19-094ff78ebfe7\">\n",
              "    <div class=\"colab-df-container\">\n",
              "      <div>\n",
              "<style scoped>\n",
              "    .dataframe tbody tr th:only-of-type {\n",
              "        vertical-align: middle;\n",
              "    }\n",
              "\n",
              "    .dataframe tbody tr th {\n",
              "        vertical-align: top;\n",
              "    }\n",
              "\n",
              "    .dataframe thead th {\n",
              "        text-align: right;\n",
              "    }\n",
              "</style>\n",
              "<table border=\"1\" class=\"dataframe\">\n",
              "  <thead>\n",
              "    <tr style=\"text-align: right;\">\n",
              "      <th></th>\n",
              "      <th>Index</th>\n",
              "      <th>Highest Charting Position</th>\n",
              "      <th>Number of Times Charted</th>\n",
              "      <th>Week of Highest Charting</th>\n",
              "      <th>Song Name</th>\n",
              "      <th>Streams</th>\n",
              "      <th>Artist</th>\n",
              "      <th>Artist Followers</th>\n",
              "      <th>Song ID</th>\n",
              "      <th>Genre</th>\n",
              "      <th>...</th>\n",
              "      <th>Danceability</th>\n",
              "      <th>Energy</th>\n",
              "      <th>Loudness</th>\n",
              "      <th>Speechiness</th>\n",
              "      <th>Acousticness</th>\n",
              "      <th>Liveness</th>\n",
              "      <th>Tempo</th>\n",
              "      <th>Duration (ms)</th>\n",
              "      <th>Valence</th>\n",
              "      <th>Chord</th>\n",
              "    </tr>\n",
              "  </thead>\n",
              "  <tbody>\n",
              "    <tr>\n",
              "      <th>0</th>\n",
              "      <td>1</td>\n",
              "      <td>1</td>\n",
              "      <td>8</td>\n",
              "      <td>2021-07-23--2021-07-30</td>\n",
              "      <td>Beggin'</td>\n",
              "      <td>48,633,449</td>\n",
              "      <td>Måneskin</td>\n",
              "      <td>3377762</td>\n",
              "      <td>3Wrjm47oTz2sjIgck11l5e</td>\n",
              "      <td>['indie rock italiano', 'italian pop']</td>\n",
              "      <td>...</td>\n",
              "      <td>0.714</td>\n",
              "      <td>0.8</td>\n",
              "      <td>-4.808</td>\n",
              "      <td>0.0504</td>\n",
              "      <td>0.127</td>\n",
              "      <td>0.359</td>\n",
              "      <td>134.002</td>\n",
              "      <td>211560</td>\n",
              "      <td>0.589</td>\n",
              "      <td>B</td>\n",
              "    </tr>\n",
              "    <tr>\n",
              "      <th>1</th>\n",
              "      <td>2</td>\n",
              "      <td>2</td>\n",
              "      <td>3</td>\n",
              "      <td>2021-07-23--2021-07-30</td>\n",
              "      <td>STAY (with Justin Bieber)</td>\n",
              "      <td>47,248,719</td>\n",
              "      <td>The Kid LAROI</td>\n",
              "      <td>2230022</td>\n",
              "      <td>5HCyWlXZPP0y6Gqq8TgA20</td>\n",
              "      <td>['australian hip hop']</td>\n",
              "      <td>...</td>\n",
              "      <td>0.591</td>\n",
              "      <td>0.764</td>\n",
              "      <td>-5.484</td>\n",
              "      <td>0.0483</td>\n",
              "      <td>0.0383</td>\n",
              "      <td>0.103</td>\n",
              "      <td>169.928</td>\n",
              "      <td>141806</td>\n",
              "      <td>0.478</td>\n",
              "      <td>C#/Db</td>\n",
              "    </tr>\n",
              "    <tr>\n",
              "      <th>2</th>\n",
              "      <td>3</td>\n",
              "      <td>1</td>\n",
              "      <td>11</td>\n",
              "      <td>2021-06-25--2021-07-02</td>\n",
              "      <td>good 4 u</td>\n",
              "      <td>40,162,559</td>\n",
              "      <td>Olivia Rodrigo</td>\n",
              "      <td>6266514</td>\n",
              "      <td>4ZtFanR9U6ndgddUvNcjcG</td>\n",
              "      <td>['pop']</td>\n",
              "      <td>...</td>\n",
              "      <td>0.563</td>\n",
              "      <td>0.664</td>\n",
              "      <td>-5.044</td>\n",
              "      <td>0.154</td>\n",
              "      <td>0.335</td>\n",
              "      <td>0.0849</td>\n",
              "      <td>166.928</td>\n",
              "      <td>178147</td>\n",
              "      <td>0.688</td>\n",
              "      <td>A</td>\n",
              "    </tr>\n",
              "    <tr>\n",
              "      <th>3</th>\n",
              "      <td>4</td>\n",
              "      <td>3</td>\n",
              "      <td>5</td>\n",
              "      <td>2021-07-02--2021-07-09</td>\n",
              "      <td>Bad Habits</td>\n",
              "      <td>37,799,456</td>\n",
              "      <td>Ed Sheeran</td>\n",
              "      <td>83293380</td>\n",
              "      <td>6PQ88X9TkUIAUIZJHW2upE</td>\n",
              "      <td>['pop', 'uk pop']</td>\n",
              "      <td>...</td>\n",
              "      <td>0.808</td>\n",
              "      <td>0.897</td>\n",
              "      <td>-3.712</td>\n",
              "      <td>0.0348</td>\n",
              "      <td>0.0469</td>\n",
              "      <td>0.364</td>\n",
              "      <td>126.026</td>\n",
              "      <td>231041</td>\n",
              "      <td>0.591</td>\n",
              "      <td>B</td>\n",
              "    </tr>\n",
              "    <tr>\n",
              "      <th>4</th>\n",
              "      <td>5</td>\n",
              "      <td>5</td>\n",
              "      <td>1</td>\n",
              "      <td>2021-07-23--2021-07-30</td>\n",
              "      <td>INDUSTRY BABY (feat. Jack Harlow)</td>\n",
              "      <td>33,948,454</td>\n",
              "      <td>Lil Nas X</td>\n",
              "      <td>5473565</td>\n",
              "      <td>27NovPIUIRrOZoCHxABJwK</td>\n",
              "      <td>['lgbtq+ hip hop', 'pop rap']</td>\n",
              "      <td>...</td>\n",
              "      <td>0.736</td>\n",
              "      <td>0.704</td>\n",
              "      <td>-7.409</td>\n",
              "      <td>0.0615</td>\n",
              "      <td>0.0203</td>\n",
              "      <td>0.0501</td>\n",
              "      <td>149.995</td>\n",
              "      <td>212000</td>\n",
              "      <td>0.894</td>\n",
              "      <td>D#/Eb</td>\n",
              "    </tr>\n",
              "  </tbody>\n",
              "</table>\n",
              "<p>5 rows × 23 columns</p>\n",
              "</div>\n",
              "      <button class=\"colab-df-convert\" onclick=\"convertToInteractive('df-c26a31e7-c01d-4433-8c19-094ff78ebfe7')\"\n",
              "              title=\"Convert this dataframe to an interactive table.\"\n",
              "              style=\"display:none;\">\n",
              "        \n",
              "  <svg xmlns=\"http://www.w3.org/2000/svg\" height=\"24px\"viewBox=\"0 0 24 24\"\n",
              "       width=\"24px\">\n",
              "    <path d=\"M0 0h24v24H0V0z\" fill=\"none\"/>\n",
              "    <path d=\"M18.56 5.44l.94 2.06.94-2.06 2.06-.94-2.06-.94-.94-2.06-.94 2.06-2.06.94zm-11 1L8.5 8.5l.94-2.06 2.06-.94-2.06-.94L8.5 2.5l-.94 2.06-2.06.94zm10 10l.94 2.06.94-2.06 2.06-.94-2.06-.94-.94-2.06-.94 2.06-2.06.94z\"/><path d=\"M17.41 7.96l-1.37-1.37c-.4-.4-.92-.59-1.43-.59-.52 0-1.04.2-1.43.59L10.3 9.45l-7.72 7.72c-.78.78-.78 2.05 0 2.83L4 21.41c.39.39.9.59 1.41.59.51 0 1.02-.2 1.41-.59l7.78-7.78 2.81-2.81c.8-.78.8-2.07 0-2.86zM5.41 20L4 18.59l7.72-7.72 1.47 1.35L5.41 20z\"/>\n",
              "  </svg>\n",
              "      </button>\n",
              "      \n",
              "  <style>\n",
              "    .colab-df-container {\n",
              "      display:flex;\n",
              "      flex-wrap:wrap;\n",
              "      gap: 12px;\n",
              "    }\n",
              "\n",
              "    .colab-df-convert {\n",
              "      background-color: #E8F0FE;\n",
              "      border: none;\n",
              "      border-radius: 50%;\n",
              "      cursor: pointer;\n",
              "      display: none;\n",
              "      fill: #1967D2;\n",
              "      height: 32px;\n",
              "      padding: 0 0 0 0;\n",
              "      width: 32px;\n",
              "    }\n",
              "\n",
              "    .colab-df-convert:hover {\n",
              "      background-color: #E2EBFA;\n",
              "      box-shadow: 0px 1px 2px rgba(60, 64, 67, 0.3), 0px 1px 3px 1px rgba(60, 64, 67, 0.15);\n",
              "      fill: #174EA6;\n",
              "    }\n",
              "\n",
              "    [theme=dark] .colab-df-convert {\n",
              "      background-color: #3B4455;\n",
              "      fill: #D2E3FC;\n",
              "    }\n",
              "\n",
              "    [theme=dark] .colab-df-convert:hover {\n",
              "      background-color: #434B5C;\n",
              "      box-shadow: 0px 1px 3px 1px rgba(0, 0, 0, 0.15);\n",
              "      filter: drop-shadow(0px 1px 2px rgba(0, 0, 0, 0.3));\n",
              "      fill: #FFFFFF;\n",
              "    }\n",
              "  </style>\n",
              "\n",
              "      <script>\n",
              "        const buttonEl =\n",
              "          document.querySelector('#df-c26a31e7-c01d-4433-8c19-094ff78ebfe7 button.colab-df-convert');\n",
              "        buttonEl.style.display =\n",
              "          google.colab.kernel.accessAllowed ? 'block' : 'none';\n",
              "\n",
              "        async function convertToInteractive(key) {\n",
              "          const element = document.querySelector('#df-c26a31e7-c01d-4433-8c19-094ff78ebfe7');\n",
              "          const dataTable =\n",
              "            await google.colab.kernel.invokeFunction('convertToInteractive',\n",
              "                                                     [key], {});\n",
              "          if (!dataTable) return;\n",
              "\n",
              "          const docLinkHtml = 'Like what you see? Visit the ' +\n",
              "            '<a target=\"_blank\" href=https://colab.research.google.com/notebooks/data_table.ipynb>data table notebook</a>'\n",
              "            + ' to learn more about interactive tables.';\n",
              "          element.innerHTML = '';\n",
              "          dataTable['output_type'] = 'display_data';\n",
              "          await google.colab.output.renderOutput(dataTable, element);\n",
              "          const docLink = document.createElement('div');\n",
              "          docLink.innerHTML = docLinkHtml;\n",
              "          element.appendChild(docLink);\n",
              "        }\n",
              "      </script>\n",
              "    </div>\n",
              "  </div>\n",
              "  "
            ]
          },
          "metadata": {},
          "execution_count": 70
        }
      ]
    },
    {
      "cell_type": "code",
      "source": [
        "# There are 3 integer columns and the rest are objects. The data types of some of the numeric columns will have to be changed.\n",
        "spotify.info()"
      ],
      "metadata": {
        "colab": {
          "base_uri": "https://localhost:8080/",
          "height": 0
        },
        "id": "1O1WZ2Dytr6Q",
        "outputId": "45acbb01-47f3-4f10-b06b-fea0d7f36eca"
      },
      "execution_count": 71,
      "outputs": [
        {
          "output_type": "stream",
          "name": "stdout",
          "text": [
            "<class 'pandas.core.frame.DataFrame'>\n",
            "RangeIndex: 1556 entries, 0 to 1555\n",
            "Data columns (total 23 columns):\n",
            " #   Column                     Non-Null Count  Dtype \n",
            "---  ------                     --------------  ----- \n",
            " 0   Index                      1556 non-null   int64 \n",
            " 1   Highest Charting Position  1556 non-null   int64 \n",
            " 2   Number of Times Charted    1556 non-null   int64 \n",
            " 3   Week of Highest Charting   1556 non-null   object\n",
            " 4   Song Name                  1556 non-null   object\n",
            " 5   Streams                    1556 non-null   object\n",
            " 6   Artist                     1556 non-null   object\n",
            " 7   Artist Followers           1556 non-null   object\n",
            " 8   Song ID                    1556 non-null   object\n",
            " 9   Genre                      1556 non-null   object\n",
            " 10  Release Date               1556 non-null   object\n",
            " 11  Weeks Charted              1556 non-null   object\n",
            " 12  Popularity                 1556 non-null   object\n",
            " 13  Danceability               1556 non-null   object\n",
            " 14  Energy                     1556 non-null   object\n",
            " 15  Loudness                   1556 non-null   object\n",
            " 16  Speechiness                1556 non-null   object\n",
            " 17  Acousticness               1556 non-null   object\n",
            " 18  Liveness                   1556 non-null   object\n",
            " 19  Tempo                      1556 non-null   object\n",
            " 20  Duration (ms)              1556 non-null   object\n",
            " 21  Valence                    1556 non-null   object\n",
            " 22  Chord                      1556 non-null   object\n",
            "dtypes: int64(3), object(20)\n",
            "memory usage: 279.7+ KB\n"
          ]
        }
      ]
    },
    {
      "cell_type": "code",
      "source": [
        "#No duplicates\n",
        "spotify.duplicated().sum()"
      ],
      "metadata": {
        "colab": {
          "base_uri": "https://localhost:8080/",
          "height": 0
        },
        "id": "nQ5NNSAAtuk4",
        "outputId": "1028e137-81b5-4982-91e2-c40fe5ed8899"
      },
      "execution_count": 72,
      "outputs": [
        {
          "output_type": "execute_result",
          "data": {
            "text/plain": [
              "0"
            ]
          },
          "metadata": {},
          "execution_count": 72
        }
      ]
    },
    {
      "cell_type": "code",
      "source": [
        "#Dropping unneccessary columns with either no distributing values or unique values that are not needed\n",
        "spotify.drop(columns = ['Index', 'Song ID', 'Chord', 'Week of Highest Charting', 'Weeks Charted', 'Release Date', 'Song Name', 'Artist', 'Genre'], inplace = True)"
      ],
      "metadata": {
        "id": "WM5SgRXFtxG6"
      },
      "execution_count": 73,
      "outputs": []
    },
    {
      "cell_type": "markdown",
      "source": [
        "Changing the data type for:\n",
        "\n",
        "- streams\n",
        "- aritst followers\n",
        "- danceability\n",
        "- energy\n",
        "- loudness\n",
        "- speechiness\n",
        "- acousticness\n",
        "- liveness\n",
        "- tempo\n",
        "- duration\n",
        "- valence\n",
        "\n",
        "Changing the object columns that are numeric."
      ],
      "metadata": {
        "id": "wB21MjRjt6qS"
      }
    },
    {
      "cell_type": "code",
      "source": [
        "#encoding genre\n",
        "\n",
        "#le = LabelEncoder()\n",
        "#spotify['Genre'] = le.fit_transform(spotify['Genre'])\n",
        "#spotify.head()"
      ],
      "metadata": {
        "colab": {
          "base_uri": "https://localhost:8080/",
          "height": 206
        },
        "id": "U6-OkV4C66DM",
        "outputId": "3e127f6e-fdfc-4d18-b1dd-2c2a69c4c60b"
      },
      "execution_count": 14,
      "outputs": [
        {
          "output_type": "execute_result",
          "data": {
            "text/plain": [
              "   HighestChartingPosition  NumberofTimesCharted   Streams ArtistFollowers  \\\n",
              "0                        1                     8  48633449         3377762   \n",
              "1                        2                     3  47248719         2230022   \n",
              "2                        1                    11  40162559         6266514   \n",
              "3                        3                     5  37799456        83293380   \n",
              "4                        5                     1  33948454         5473565   \n",
              "\n",
              "   Genre Popularity Danceability Energy Loudness Speechiness Acousticness  \\\n",
              "0    278        100        0.714    0.8   -4.808      0.0504        0.127   \n",
              "1     65         99        0.591  0.764   -5.484      0.0483       0.0383   \n",
              "2    366         99        0.563  0.664   -5.044       0.154        0.335   \n",
              "3    365         98        0.808  0.897   -3.712      0.0348       0.0469   \n",
              "4    314         96        0.736  0.704   -7.409      0.0615       0.0203   \n",
              "\n",
              "  Liveness    Tempo Duration(ms) Valence  \n",
              "0    0.359  134.002       211560   0.589  \n",
              "1    0.103  169.928       141806   0.478  \n",
              "2   0.0849  166.928       178147   0.688  \n",
              "3    0.364  126.026       231041   0.591  \n",
              "4   0.0501  149.995       212000   0.894  "
            ],
            "text/html": [
              "\n",
              "  <div id=\"df-adeec3ca-74c6-40f7-af02-11ffa177cdfb\">\n",
              "    <div class=\"colab-df-container\">\n",
              "      <div>\n",
              "<style scoped>\n",
              "    .dataframe tbody tr th:only-of-type {\n",
              "        vertical-align: middle;\n",
              "    }\n",
              "\n",
              "    .dataframe tbody tr th {\n",
              "        vertical-align: top;\n",
              "    }\n",
              "\n",
              "    .dataframe thead th {\n",
              "        text-align: right;\n",
              "    }\n",
              "</style>\n",
              "<table border=\"1\" class=\"dataframe\">\n",
              "  <thead>\n",
              "    <tr style=\"text-align: right;\">\n",
              "      <th></th>\n",
              "      <th>HighestChartingPosition</th>\n",
              "      <th>NumberofTimesCharted</th>\n",
              "      <th>Streams</th>\n",
              "      <th>ArtistFollowers</th>\n",
              "      <th>Genre</th>\n",
              "      <th>Popularity</th>\n",
              "      <th>Danceability</th>\n",
              "      <th>Energy</th>\n",
              "      <th>Loudness</th>\n",
              "      <th>Speechiness</th>\n",
              "      <th>Acousticness</th>\n",
              "      <th>Liveness</th>\n",
              "      <th>Tempo</th>\n",
              "      <th>Duration(ms)</th>\n",
              "      <th>Valence</th>\n",
              "    </tr>\n",
              "  </thead>\n",
              "  <tbody>\n",
              "    <tr>\n",
              "      <th>0</th>\n",
              "      <td>1</td>\n",
              "      <td>8</td>\n",
              "      <td>48633449</td>\n",
              "      <td>3377762</td>\n",
              "      <td>278</td>\n",
              "      <td>100</td>\n",
              "      <td>0.714</td>\n",
              "      <td>0.8</td>\n",
              "      <td>-4.808</td>\n",
              "      <td>0.0504</td>\n",
              "      <td>0.127</td>\n",
              "      <td>0.359</td>\n",
              "      <td>134.002</td>\n",
              "      <td>211560</td>\n",
              "      <td>0.589</td>\n",
              "    </tr>\n",
              "    <tr>\n",
              "      <th>1</th>\n",
              "      <td>2</td>\n",
              "      <td>3</td>\n",
              "      <td>47248719</td>\n",
              "      <td>2230022</td>\n",
              "      <td>65</td>\n",
              "      <td>99</td>\n",
              "      <td>0.591</td>\n",
              "      <td>0.764</td>\n",
              "      <td>-5.484</td>\n",
              "      <td>0.0483</td>\n",
              "      <td>0.0383</td>\n",
              "      <td>0.103</td>\n",
              "      <td>169.928</td>\n",
              "      <td>141806</td>\n",
              "      <td>0.478</td>\n",
              "    </tr>\n",
              "    <tr>\n",
              "      <th>2</th>\n",
              "      <td>1</td>\n",
              "      <td>11</td>\n",
              "      <td>40162559</td>\n",
              "      <td>6266514</td>\n",
              "      <td>366</td>\n",
              "      <td>99</td>\n",
              "      <td>0.563</td>\n",
              "      <td>0.664</td>\n",
              "      <td>-5.044</td>\n",
              "      <td>0.154</td>\n",
              "      <td>0.335</td>\n",
              "      <td>0.0849</td>\n",
              "      <td>166.928</td>\n",
              "      <td>178147</td>\n",
              "      <td>0.688</td>\n",
              "    </tr>\n",
              "    <tr>\n",
              "      <th>3</th>\n",
              "      <td>3</td>\n",
              "      <td>5</td>\n",
              "      <td>37799456</td>\n",
              "      <td>83293380</td>\n",
              "      <td>365</td>\n",
              "      <td>98</td>\n",
              "      <td>0.808</td>\n",
              "      <td>0.897</td>\n",
              "      <td>-3.712</td>\n",
              "      <td>0.0348</td>\n",
              "      <td>0.0469</td>\n",
              "      <td>0.364</td>\n",
              "      <td>126.026</td>\n",
              "      <td>231041</td>\n",
              "      <td>0.591</td>\n",
              "    </tr>\n",
              "    <tr>\n",
              "      <th>4</th>\n",
              "      <td>5</td>\n",
              "      <td>1</td>\n",
              "      <td>33948454</td>\n",
              "      <td>5473565</td>\n",
              "      <td>314</td>\n",
              "      <td>96</td>\n",
              "      <td>0.736</td>\n",
              "      <td>0.704</td>\n",
              "      <td>-7.409</td>\n",
              "      <td>0.0615</td>\n",
              "      <td>0.0203</td>\n",
              "      <td>0.0501</td>\n",
              "      <td>149.995</td>\n",
              "      <td>212000</td>\n",
              "      <td>0.894</td>\n",
              "    </tr>\n",
              "  </tbody>\n",
              "</table>\n",
              "</div>\n",
              "      <button class=\"colab-df-convert\" onclick=\"convertToInteractive('df-adeec3ca-74c6-40f7-af02-11ffa177cdfb')\"\n",
              "              title=\"Convert this dataframe to an interactive table.\"\n",
              "              style=\"display:none;\">\n",
              "        \n",
              "  <svg xmlns=\"http://www.w3.org/2000/svg\" height=\"24px\"viewBox=\"0 0 24 24\"\n",
              "       width=\"24px\">\n",
              "    <path d=\"M0 0h24v24H0V0z\" fill=\"none\"/>\n",
              "    <path d=\"M18.56 5.44l.94 2.06.94-2.06 2.06-.94-2.06-.94-.94-2.06-.94 2.06-2.06.94zm-11 1L8.5 8.5l.94-2.06 2.06-.94-2.06-.94L8.5 2.5l-.94 2.06-2.06.94zm10 10l.94 2.06.94-2.06 2.06-.94-2.06-.94-.94-2.06-.94 2.06-2.06.94z\"/><path d=\"M17.41 7.96l-1.37-1.37c-.4-.4-.92-.59-1.43-.59-.52 0-1.04.2-1.43.59L10.3 9.45l-7.72 7.72c-.78.78-.78 2.05 0 2.83L4 21.41c.39.39.9.59 1.41.59.51 0 1.02-.2 1.41-.59l7.78-7.78 2.81-2.81c.8-.78.8-2.07 0-2.86zM5.41 20L4 18.59l7.72-7.72 1.47 1.35L5.41 20z\"/>\n",
              "  </svg>\n",
              "      </button>\n",
              "      \n",
              "  <style>\n",
              "    .colab-df-container {\n",
              "      display:flex;\n",
              "      flex-wrap:wrap;\n",
              "      gap: 12px;\n",
              "    }\n",
              "\n",
              "    .colab-df-convert {\n",
              "      background-color: #E8F0FE;\n",
              "      border: none;\n",
              "      border-radius: 50%;\n",
              "      cursor: pointer;\n",
              "      display: none;\n",
              "      fill: #1967D2;\n",
              "      height: 32px;\n",
              "      padding: 0 0 0 0;\n",
              "      width: 32px;\n",
              "    }\n",
              "\n",
              "    .colab-df-convert:hover {\n",
              "      background-color: #E2EBFA;\n",
              "      box-shadow: 0px 1px 2px rgba(60, 64, 67, 0.3), 0px 1px 3px 1px rgba(60, 64, 67, 0.15);\n",
              "      fill: #174EA6;\n",
              "    }\n",
              "\n",
              "    [theme=dark] .colab-df-convert {\n",
              "      background-color: #3B4455;\n",
              "      fill: #D2E3FC;\n",
              "    }\n",
              "\n",
              "    [theme=dark] .colab-df-convert:hover {\n",
              "      background-color: #434B5C;\n",
              "      box-shadow: 0px 1px 3px 1px rgba(0, 0, 0, 0.15);\n",
              "      filter: drop-shadow(0px 1px 2px rgba(0, 0, 0, 0.3));\n",
              "      fill: #FFFFFF;\n",
              "    }\n",
              "  </style>\n",
              "\n",
              "      <script>\n",
              "        const buttonEl =\n",
              "          document.querySelector('#df-adeec3ca-74c6-40f7-af02-11ffa177cdfb button.colab-df-convert');\n",
              "        buttonEl.style.display =\n",
              "          google.colab.kernel.accessAllowed ? 'block' : 'none';\n",
              "\n",
              "        async function convertToInteractive(key) {\n",
              "          const element = document.querySelector('#df-adeec3ca-74c6-40f7-af02-11ffa177cdfb');\n",
              "          const dataTable =\n",
              "            await google.colab.kernel.invokeFunction('convertToInteractive',\n",
              "                                                     [key], {});\n",
              "          if (!dataTable) return;\n",
              "\n",
              "          const docLinkHtml = 'Like what you see? Visit the ' +\n",
              "            '<a target=\"_blank\" href=https://colab.research.google.com/notebooks/data_table.ipynb>data table notebook</a>'\n",
              "            + ' to learn more about interactive tables.';\n",
              "          element.innerHTML = '';\n",
              "          dataTable['output_type'] = 'display_data';\n",
              "          await google.colab.output.renderOutput(dataTable, element);\n",
              "          const docLink = document.createElement('div');\n",
              "          docLink.innerHTML = docLinkHtml;\n",
              "          element.appendChild(docLink);\n",
              "        }\n",
              "      </script>\n",
              "    </div>\n",
              "  </div>\n",
              "  "
            ]
          },
          "metadata": {},
          "execution_count": 14
        }
      ]
    },
    {
      "cell_type": "code",
      "source": [
        "#removing the the commas in streams\n",
        "#Code ref: Stackedoverflow\n",
        "spotify.Streams = spotify.Streams.apply(lambda Streams : Streams.replace(',', ''))"
      ],
      "metadata": {
        "id": "v82iyD6Lt5jf"
      },
      "execution_count": 74,
      "outputs": []
    },
    {
      "cell_type": "code",
      "source": [
        "#removing commas, \n",
        "spotify.replace(',','', regex=True, inplace=True)\n",
        "spotify.replace(\"'\",'', regex=True, inplace=True)\n",
        "spotify.replace(\" '' \",'', regex=True, inplace=True)"
      ],
      "metadata": {
        "id": "DNFeU60g-Xst"
      },
      "execution_count": 75,
      "outputs": []
    },
    {
      "cell_type": "code",
      "source": [
        "#renaming column names to remove the space\n",
        "spotify.rename(columns = {'Highest Charting Position':'HighestChartingPosition'}, inplace = True)\n",
        "spotify.rename(columns = {'Number of Times Charted':'NumberofTimesCharted'}, inplace = True)\n",
        "spotify.rename(columns = {'Artist Followers':'ArtistFollowers'}, inplace = True)\n",
        "spotify.rename(columns = {'Duration (ms)':'Duration(ms)'}, inplace = True)"
      ],
      "metadata": {
        "id": "-vs8smlF4EsC"
      },
      "execution_count": 76,
      "outputs": []
    },
    {
      "cell_type": "code",
      "source": [
        "spotify['Streams'] = spotify['Streams'].astype('int')"
      ],
      "metadata": {
        "id": "tjwpuycuuFQ2"
      },
      "execution_count": 77,
      "outputs": []
    },
    {
      "cell_type": "code",
      "source": [
        "#converting datatypes\n",
        "Allobjectcolumns = ['ArtistFollowers', 'Danceability', 'Energy', 'Loudness', 'Speechiness', 'Acousticness', 'Liveness', 'Tempo', 'Duration(ms)', 'Valence']\n",
        "#code ref for loop: Stackedoverflow + Kaggle\n",
        "for each_col in Allobjectcolumns:\n",
        "  spotify[each_col] = pd.to_numeric(spotify[each_col], errors = 'coerce')"
      ],
      "metadata": {
        "id": "b6VRpH4NuHlU"
      },
      "execution_count": 78,
      "outputs": []
    },
    {
      "cell_type": "code",
      "source": [
        "#identifying null columns\n",
        "spotify.isnull().sum()"
      ],
      "metadata": {
        "colab": {
          "base_uri": "https://localhost:8080/",
          "height": 0
        },
        "id": "3yfok_HRuPIW",
        "outputId": "0474bb90-c472-4965-9ceb-c8897c5c7e28"
      },
      "execution_count": 79,
      "outputs": [
        {
          "output_type": "execute_result",
          "data": {
            "text/plain": [
              "HighestChartingPosition     0\n",
              "NumberofTimesCharted        0\n",
              "Streams                     0\n",
              "ArtistFollowers            11\n",
              "Popularity                  0\n",
              "Danceability               11\n",
              "Energy                     11\n",
              "Loudness                   11\n",
              "Speechiness                11\n",
              "Acousticness               11\n",
              "Liveness                   11\n",
              "Tempo                      11\n",
              "Duration(ms)               11\n",
              "Valence                    11\n",
              "dtype: int64"
            ]
          },
          "metadata": {},
          "execution_count": 79
        }
      ]
    },
    {
      "cell_type": "code",
      "source": [
        "#removing all null values since I the numeric columns are imperative\n",
        "spotify = spotify.dropna()"
      ],
      "metadata": {
        "id": "CsMY-FMKuRfi"
      },
      "execution_count": 80,
      "outputs": []
    },
    {
      "cell_type": "code",
      "source": [
        "spotify.info()"
      ],
      "metadata": {
        "colab": {
          "base_uri": "https://localhost:8080/",
          "height": 0
        },
        "id": "1TI4V9HtuVyZ",
        "outputId": "f6f147db-a002-4e75-a522-7784e7ce0dc2"
      },
      "execution_count": 81,
      "outputs": [
        {
          "output_type": "stream",
          "name": "stdout",
          "text": [
            "<class 'pandas.core.frame.DataFrame'>\n",
            "Int64Index: 1545 entries, 0 to 1555\n",
            "Data columns (total 14 columns):\n",
            " #   Column                   Non-Null Count  Dtype  \n",
            "---  ------                   --------------  -----  \n",
            " 0   HighestChartingPosition  1545 non-null   int64  \n",
            " 1   NumberofTimesCharted     1545 non-null   int64  \n",
            " 2   Streams                  1545 non-null   int64  \n",
            " 3   ArtistFollowers          1545 non-null   float64\n",
            " 4   Popularity               1545 non-null   object \n",
            " 5   Danceability             1545 non-null   float64\n",
            " 6   Energy                   1545 non-null   float64\n",
            " 7   Loudness                 1545 non-null   float64\n",
            " 8   Speechiness              1545 non-null   float64\n",
            " 9   Acousticness             1545 non-null   float64\n",
            " 10  Liveness                 1545 non-null   float64\n",
            " 11  Tempo                    1545 non-null   float64\n",
            " 12  Duration(ms)             1545 non-null   float64\n",
            " 13  Valence                  1545 non-null   float64\n",
            "dtypes: float64(10), int64(3), object(1)\n",
            "memory usage: 181.1+ KB\n"
          ]
        }
      ]
    },
    {
      "cell_type": "code",
      "source": [
        "#the target is streams\n",
        "X = spotify.drop(columns = 'Streams')\n",
        "y = spotify['Streams']"
      ],
      "metadata": {
        "id": "A9wo4txkuzjI"
      },
      "execution_count": 82,
      "outputs": []
    },
    {
      "cell_type": "code",
      "source": [
        "X_train, X_test, y_train, y_test = train_test_split(X,y, random_state=25) #test_size = 0.2)"
      ],
      "metadata": {
        "id": "i3IUjsp5u-8v"
      },
      "execution_count": 85,
      "outputs": []
    },
    {
      "cell_type": "code",
      "source": [
        "#getting the shape of the data\n",
        "print('X Train:', X_train.shape) #the X training set contains 1158 data\n",
        "print('y Train:', y_train.shape) #the y training set contains 387 data\n",
        "print('X_test:', X_test.shape)#the X testing set contains 1158 data\n",
        "print('y_test:', y_test.shape) #the y testing set contains 387 data"
      ],
      "metadata": {
        "colab": {
          "base_uri": "https://localhost:8080/",
          "height": 0
        },
        "id": "ElYwUOCmyn3t",
        "outputId": "21d2ab8d-4ebc-4529-dfab-dc296263dcd1"
      },
      "execution_count": 86,
      "outputs": [
        {
          "output_type": "stream",
          "name": "stdout",
          "text": [
            "X Train: (1158, 13)\n",
            "y Train: (1158,)\n",
            "X_test: (387, 13)\n",
            "y_test: (387,)\n"
          ]
        }
      ]
    },
    {
      "cell_type": "markdown",
      "source": [
        "#KMEANS"
      ],
      "metadata": {
        "id": "yR5hQF35DKeX"
      }
    },
    {
      "cell_type": "code",
      "source": [
        "scaler = StandardScaler()\n",
        "scaled_df = scaler.fit_transform(spotify)"
      ],
      "metadata": {
        "id": "61GkRzjP_i4h"
      },
      "execution_count": 87,
      "outputs": []
    },
    {
      "cell_type": "code",
      "source": [
        "#looking for KMeans\n",
        "\n",
        "#empty list of intertias\n",
        "inertias = []\n",
        "\n",
        "#looping through k values between 1 and 11 and store the inertias in the list\n",
        "for k in range(1,11):\n",
        "  kmeans = KMeans(n_clusters=k) \n",
        "  kmeans.fit(scaled_df)\n",
        "  inertias.append(kmeans.inertia_) \n",
        "plt.plot(range(1,11), inertias, marker = '*')\n",
        "plt.xlabel('clusters')\n",
        "plt.ylabel('inertia')"
      ],
      "metadata": {
        "colab": {
          "base_uri": "https://localhost:8080/",
          "height": 299
        },
        "id": "hSXsxXNSCYyw",
        "outputId": "5a8adb72-ea28-4359-a088-9341f0b706fe"
      },
      "execution_count": 88,
      "outputs": [
        {
          "output_type": "execute_result",
          "data": {
            "text/plain": [
              "Text(0, 0.5, 'inertia')"
            ]
          },
          "metadata": {},
          "execution_count": 88
        },
        {
          "output_type": "display_data",
          "data": {
            "text/plain": [
              "<Figure size 432x288 with 1 Axes>"
            ],
            "image/png": "[encoded data removed]"
          },
          "metadata": {
            "needs_background": "light"
          }
        }
      ]
    },
    {
      "cell_type": "markdown",
      "source": [
        "The \"elbow\" indicates the optimal cluster would be 2"
      ],
      "metadata": {
        "id": "QtSMMPFFC8wd"
      }
    },
    {
      "cell_type": "markdown",
      "source": [
        "#Silhouette"
      ],
      "metadata": {
        "id": "b3qsmA9oDMTc"
      }
    },
    {
      "cell_type": "code",
      "source": [
        "#saving various scores for various clusters of numbers in lists\n",
        "silhouette_scores = []\n",
        "for i in range(2,11):\n",
        "  kmeans = KMeans(n_clusters = i)\n",
        "  kmeans.fit(scaled_df)\n",
        "  silhouette_scores.append(silhouette_score(scaled_df, kmeans.labels_))\n",
        "\n",
        "\n",
        "#visualizing\n",
        "\n",
        "plt.plot(range(2,11), silhouette_scores, marker = '.')\n",
        "plt.xlabel('No. of clusters')\n",
        "plt.ylabel('Silhouette score')"
      ],
      "metadata": {
        "colab": {
          "base_uri": "https://localhost:8080/",
          "height": 296
        },
        "id": "PIdHdr5iDOHT",
        "outputId": "22ac785b-760c-4e19-d498-adc5ef0399a8"
      },
      "execution_count": 89,
      "outputs": [
        {
          "output_type": "execute_result",
          "data": {
            "text/plain": [
              "Text(0, 0.5, 'Silhouette score')"
            ]
          },
          "metadata": {},
          "execution_count": 89
        },
        {
          "output_type": "display_data",
          "data": {
            "text/plain": [
              "<Figure size 432x288 with 1 Axes>"
            ],
            "image/png": "[encoded data removed]"
          },
          "metadata": {
            "needs_background": "light"
          }
        }
      ]
    },
    {
      "cell_type": "markdown",
      "source": [
        "2 is the highest score, therefore it would be most optimal."
      ],
      "metadata": {
        "id": "8Zc_b0pDDedA"
      }
    },
    {
      "cell_type": "code",
      "source": [
        "#obtaining the sihouette score, fitting kmeans model, and displaying score\n",
        "\n",
        "kmeans = KMeans(n_clusters = 2)\n",
        "kmeans.fit(scaled_df)\n",
        "silhouette_score(scaled_df, kmeans.labels_)"
      ],
      "metadata": {
        "colab": {
          "base_uri": "https://localhost:8080/",
          "height": 0
        },
        "id": "i_1SA0t4Dj59",
        "outputId": "2dc4145d-9161-4bda-d748-953effdfb9cd"
      },
      "execution_count": 90,
      "outputs": [
        {
          "output_type": "execute_result",
          "data": {
            "text/plain": [
              "0.18363826197079378"
            ]
          },
          "metadata": {},
          "execution_count": 90
        }
      ]
    },
    {
      "cell_type": "markdown",
      "source": [
        "Received a very low score, which is not good."
      ],
      "metadata": {
        "id": "73A-be6pDole"
      }
    },
    {
      "cell_type": "markdown",
      "source": [
        "#Using PCA"
      ],
      "metadata": {
        "id": "rtfoWYlmEGCB"
      }
    },
    {
      "cell_type": "code",
      "source": [
        "#scaling my data as it is required for PCA\n",
        "scaler = StandardScaler()\n",
        "scaled_df = scaler.fit_transform(X_train) #fitting"
      ],
      "metadata": {
        "id": "NavpuYMvEMu8"
      },
      "execution_count": 91,
      "outputs": []
    },
    {
      "cell_type": "code",
      "source": [
        "pca = PCA(n_components = .95) #using 95% of my data\n",
        "pca.fit(scaled_df) #fitting on PCA"
      ],
      "metadata": {
        "colab": {
          "base_uri": "https://localhost:8080/",
          "height": 0
        },
        "id": "qelZmhZhEQZl",
        "outputId": "efa26700-fc81-4630-a12b-d4c8acdcf684"
      },
      "execution_count": 92,
      "outputs": [
        {
          "output_type": "execute_result",
          "data": {
            "text/plain": [
              "PCA(n_components=0.95)"
            ]
          },
          "metadata": {},
          "execution_count": 92
        }
      ]
    },
    {
      "cell_type": "code",
      "source": [
        "processed = make_pipeline(scaler, pca) #creating my pipeline for PCA & scaler"
      ],
      "metadata": {
        "id": "KV7Ew0AhEYGj"
      },
      "execution_count": 93,
      "outputs": []
    },
    {
      "cell_type": "code",
      "source": [
        "#obtaining the shape of my data\n",
        "print('before PCA:', X_train.shape)\n",
        "print('after PCA:', processed.fit_transform(X_train).shape)\n",
        "print('reduced by: ', X_train.shape[1] - processed.fit_transform(X_train).shape[1])"
      ],
      "metadata": {
        "colab": {
          "base_uri": "https://localhost:8080/",
          "height": 0
        },
        "id": "D6h6OwjsEkGe",
        "outputId": "fc65e4d6-980c-462a-9c2f-95b7af84d6bc"
      },
      "execution_count": 94,
      "outputs": [
        {
          "output_type": "stream",
          "name": "stdout",
          "text": [
            "before PCA: (1158, 13)\n",
            "after PCA: (1158, 11)\n",
            "reduced by:  2\n"
          ]
        }
      ]
    },
    {
      "cell_type": "markdown",
      "source": [
        "out of the 13 columns 2 were reduced while retaining 95% of the data"
      ],
      "metadata": {
        "id": "C_FqBxT8Eujd"
      }
    },
    {
      "cell_type": "markdown",
      "source": [
        "#logistic regression"
      ],
      "metadata": {
        "id": "lrg4OqPCKY2r"
      }
    },
    {
      "cell_type": "markdown",
      "source": [
        "With PCA:"
      ],
      "metadata": {
        "id": "IAfgOsKpCqbU"
      }
    },
    {
      "cell_type": "code",
      "source": [
        "#pipeline for my PCA\n",
        "transformer = make_pipeline(StandardScaler(), PCA(n_components=.95))"
      ],
      "metadata": {
        "id": "0unuOrJc9UjI"
      },
      "execution_count": 102,
      "outputs": []
    },
    {
      "cell_type": "code",
      "source": [
        "from sklearn.linear_model import LogisticRegression\n",
        "#instantiating logistic regression\n",
        "logreg = LogisticRegression()\n",
        "#modeling and pipeline\n",
        "logregpipe_ = make_pipeline(transformer, logreg)\n",
        "logregpipe_.fit(X_train, y_train)"
      ],
      "metadata": {
        "colab": {
          "base_uri": "https://localhost:8080/",
          "height": 0
        },
        "id": "ep4W5beKKXnq",
        "outputId": "cd0f6c8a-ad08-458c-a292-b19d22d521d7"
      },
      "execution_count": 103,
      "outputs": [
        {
          "output_type": "execute_result",
          "data": {
            "text/plain": [
              "Pipeline(steps=[('pipeline',\n",
              "                 Pipeline(steps=[('standardscaler', StandardScaler()),\n",
              "                                 ('pca', PCA(n_components=0.95))])),\n",
              "                ('logisticregression', LogisticRegression())])"
            ]
          },
          "metadata": {},
          "execution_count": 103
        }
      ]
    },
    {
      "cell_type": "code",
      "source": [
        "#testing the model and obtaining scores \n",
        "print('Training accuracy:', logregpipe_.score(X_train, y_train))\n",
        "print('Testing accuracy:', logregpipe_.score(X_test, y_test))\n"
      ],
      "metadata": {
        "colab": {
          "base_uri": "https://localhost:8080/",
          "height": 0
        },
        "id": "Lg6vA4K4-dJh",
        "outputId": "44a9324c-0563-422e-f59b-8d89e3cbb319"
      },
      "execution_count": 104,
      "outputs": [
        {
          "output_type": "stream",
          "name": "stdout",
          "text": [
            "Training accuracy: 0.9490500863557858\n",
            "Testing accuracy: 0.0\n"
          ]
        }
      ]
    },
    {
      "cell_type": "markdown",
      "source": [
        "The logistic regression with a PCA has a score of 0.94 with 95% of variance. Which is significantly higher than the KMeans model."
      ],
      "metadata": {
        "id": "3VdB-ZhOCNyX"
      }
    },
    {
      "cell_type": "markdown",
      "source": [
        "Without PCA:"
      ],
      "metadata": {
        "id": "6epy_p4xCsLS"
      }
    },
    {
      "cell_type": "code",
      "source": [
        "#instantiating logistic regression\n",
        "logreg = LogisticRegression()\n",
        "#modeling and pipeline\n",
        "logregpipe_ = make_pipeline(StandardScaler(), logreg)\n",
        "logregpipe_.fit(X_train, y_train)"
      ],
      "metadata": {
        "colab": {
          "base_uri": "https://localhost:8080/",
          "height": 0
        },
        "id": "aGpZS13DCroe",
        "outputId": "604776f8-f741-454f-d94c-7a582ac72fc4"
      },
      "execution_count": 109,
      "outputs": [
        {
          "output_type": "execute_result",
          "data": {
            "text/plain": [
              "Pipeline(steps=[('standardscaler', StandardScaler()),\n",
              "                ('logisticregression', LogisticRegression())])"
            ]
          },
          "metadata": {},
          "execution_count": 109
        }
      ]
    },
    {
      "cell_type": "code",
      "source": [
        "#testing the model and obtaining scores \n",
        "logregtrain_output = print('Training accuracy:', logregpipe_.score(X_train, y_train))\n",
        "print('Testing accuracy:', logregpipe_.score(X_test, y_test))"
      ],
      "metadata": {
        "colab": {
          "base_uri": "https://localhost:8080/",
          "height": 0
        },
        "id": "PMp9ZuRYCy5R",
        "outputId": "3e478f63-ea42-452b-d1d4-5535c01e74b9"
      },
      "execution_count": 124,
      "outputs": [
        {
          "output_type": "stream",
          "name": "stdout",
          "text": [
            "Training accuracy: 0.9879101899827288\n",
            "Testing accuracy: 0.0\n"
          ]
        }
      ]
    },
    {
      "cell_type": "markdown",
      "source": [
        "A better score seems to be conducted without a PCA for the logistic regression model. It scored better than the LR model with a PCA."
      ],
      "metadata": {
        "id": "_-c1m60uDB3J"
      }
    },
    {
      "cell_type": "markdown",
      "source": [
        "#KNN w/PCA"
      ],
      "metadata": {
        "id": "c-qxHwnTE7-t"
      }
    },
    {
      "cell_type": "code",
      "source": [
        "#instantianing KNN\n",
        "knn = KNeighborsClassifier()\n",
        "#modeling\n",
        "KNN_pipe = make_pipeline(scaler, pca, knn)\n",
        "#fitting\n",
        "KNN_pipe.fit(X_train, y_train)"
      ],
      "metadata": {
        "colab": {
          "base_uri": "https://localhost:8080/",
          "height": 0
        },
        "id": "TjVjXXHzE9Wa",
        "outputId": "ab1cee37-e102-482d-ee67-3d7f1d677f9e"
      },
      "execution_count": 105,
      "outputs": [
        {
          "output_type": "execute_result",
          "data": {
            "text/plain": [
              "Pipeline(steps=[('standardscaler', StandardScaler()),\n",
              "                ('pca', PCA(n_components=0.95)),\n",
              "                ('kneighborsclassifier', KNeighborsClassifier())])"
            ]
          },
          "metadata": {},
          "execution_count": 105
        }
      ]
    },
    {
      "cell_type": "code",
      "source": [
        "#testing the model and obtaining scores \n",
        "print('Training accuracy:', KNN_pipe.score(X_train, y_train))\n",
        "print('Testing accuracy:', KNN_pipe.score(X_test, y_test))"
      ],
      "metadata": {
        "colab": {
          "base_uri": "https://localhost:8080/",
          "height": 0
        },
        "id": "FYg8yrEw_qRy",
        "outputId": "38ccc1a6-dcd6-41d2-9724-a32d71be3780"
      },
      "execution_count": 106,
      "outputs": [
        {
          "output_type": "stream",
          "name": "stdout",
          "text": [
            "Training accuracy: 0.18393782383419688\n",
            "Testing accuracy: 0.0\n"
          ]
        }
      ]
    },
    {
      "cell_type": "markdown",
      "source": [
        "KNN is receiving a very low score."
      ],
      "metadata": {
        "id": "bwExMerlCBgo"
      }
    },
    {
      "cell_type": "markdown",
      "source": [
        "KNN without PCA"
      ],
      "metadata": {
        "id": "ILnehFlXDRfw"
      }
    },
    {
      "cell_type": "code",
      "source": [
        "knn = KNeighborsClassifier()\n",
        "KNN_pipe = make_pipeline(scaler, knn)\n",
        "KNN_pipe.fit(X_train, y_train)"
      ],
      "metadata": {
        "colab": {
          "base_uri": "https://localhost:8080/",
          "height": 0
        },
        "id": "NmGx-3PkDRFC",
        "outputId": "59faa060-6e3a-4a6a-a25c-251a04bcc32a"
      },
      "execution_count": 111,
      "outputs": [
        {
          "output_type": "execute_result",
          "data": {
            "text/plain": [
              "Pipeline(steps=[('standardscaler', StandardScaler()),\n",
              "                ('kneighborsclassifier', KNeighborsClassifier())])"
            ]
          },
          "metadata": {},
          "execution_count": 111
        }
      ]
    },
    {
      "cell_type": "code",
      "source": [
        "print('Training accuracy:', KNN_pipe.score(X_train, y_train))\n",
        "print('Testing accuracy:', KNN_pipe.score(X_test, y_test))"
      ],
      "metadata": {
        "colab": {
          "base_uri": "https://localhost:8080/",
          "height": 0
        },
        "id": "R2l0qH0cDWju",
        "outputId": "a2ea565c-65f5-4e6f-d8ee-e9f9ae5adc64"
      },
      "execution_count": 112,
      "outputs": [
        {
          "output_type": "stream",
          "name": "stdout",
          "text": [
            "Training accuracy: 0.18998272884283246\n",
            "Testing accuracy: 0.0\n"
          ]
        }
      ]
    },
    {
      "cell_type": "markdown",
      "source": [
        "The score remains extremely low even without PCA."
      ],
      "metadata": {
        "id": "Z-X5Xqk6DYZI"
      }
    },
    {
      "cell_type": "markdown",
      "source": [
        "#Linear regression"
      ],
      "metadata": {
        "id": "fN1v2by6DbqH"
      }
    },
    {
      "cell_type": "code",
      "source": [
        "from sklearn.linear_model import LinearRegression"
      ],
      "metadata": {
        "id": "BTKcoAtkDpEL"
      },
      "execution_count": 113,
      "outputs": []
    },
    {
      "cell_type": "markdown",
      "source": [
        "With PCA:"
      ],
      "metadata": {
        "id": "5PRn_YXYEFkw"
      }
    },
    {
      "cell_type": "code",
      "source": [
        "#instantiating my model\n",
        "linreg = LinearRegression()\n",
        "linreg_pipe = make_pipeline(scaler, pca, linreg) #creating my linreg pipeline\n",
        "linreg_pipe.fit(X_train, y_train) #fitting my model"
      ],
      "metadata": {
        "colab": {
          "base_uri": "https://localhost:8080/",
          "height": 0
        },
        "id": "-ANfWSFJDilR",
        "outputId": "3db6ac0c-8bad-4169-ee07-88d3ee64501b"
      },
      "execution_count": 115,
      "outputs": [
        {
          "output_type": "execute_result",
          "data": {
            "text/plain": [
              "Pipeline(steps=[('standardscaler', StandardScaler()),\n",
              "                ('pca', PCA(n_components=0.95)),\n",
              "                ('linearregression', LinearRegression())])"
            ]
          },
          "metadata": {},
          "execution_count": 115
        }
      ]
    },
    {
      "cell_type": "code",
      "source": [
        "#testing the model and obtaining scores \n",
        "print('Training accuracy:', linreg_pipe.score(X_train, y_train))\n",
        "print('Testing accuracy:', linreg_pipe.score(X_test, y_test))"
      ],
      "metadata": {
        "colab": {
          "base_uri": "https://localhost:8080/",
          "height": 0
        },
        "id": "if8AJNjFD4qH",
        "outputId": "fabf48e9-0db1-4a65-b58f-3e6f41c35125"
      },
      "execution_count": 116,
      "outputs": [
        {
          "output_type": "stream",
          "name": "stdout",
          "text": [
            "Training accuracy: 0.16592114659779855\n",
            "Testing accuracy: 0.11571676362065952\n"
          ]
        }
      ]
    },
    {
      "cell_type": "markdown",
      "source": [
        "The linear regression model w/PCA did not perform good as the scores are very low."
      ],
      "metadata": {
        "id": "Fh6twxhAD-Ns"
      }
    },
    {
      "cell_type": "markdown",
      "source": [
        "Without PCA:"
      ],
      "metadata": {
        "id": "ZMlSqg00EEKt"
      }
    },
    {
      "cell_type": "code",
      "source": [
        "linreg = LinearRegression()\n",
        "linreg_pipe = make_pipeline(scaler, linreg)\n",
        "linreg_pipe.fit(X_train, y_train)"
      ],
      "metadata": {
        "colab": {
          "base_uri": "https://localhost:8080/",
          "height": 0
        },
        "id": "owQomQUsEH36",
        "outputId": "3b435c05-1768-4854-8bfa-be2d2fe7127f"
      },
      "execution_count": 117,
      "outputs": [
        {
          "output_type": "execute_result",
          "data": {
            "text/plain": [
              "Pipeline(steps=[('standardscaler', StandardScaler()),\n",
              "                ('linearregression', LinearRegression())])"
            ]
          },
          "metadata": {},
          "execution_count": 117
        }
      ]
    },
    {
      "cell_type": "code",
      "source": [
        "print('Training accuracy:', linreg_pipe.score(X_train, y_train))\n",
        "print('Testing accuracy:', linreg_pipe.score(X_test, y_test))"
      ],
      "metadata": {
        "colab": {
          "base_uri": "https://localhost:8080/",
          "height": 0
        },
        "id": "Vj1fmFmLEKwQ",
        "outputId": "c4f6b1b6-eec5-4214-b1da-29c7a8099405"
      },
      "execution_count": 118,
      "outputs": [
        {
          "output_type": "stream",
          "name": "stdout",
          "text": [
            "Training accuracy: 0.1666819894170397\n",
            "Testing accuracy: 0.11021787508223613\n"
          ]
        }
      ]
    },
    {
      "cell_type": "markdown",
      "source": [
        "Not much of a differential score than the lingreg w/a PCA. The scores remain very low."
      ],
      "metadata": {
        "id": "N8BbM4qyEM4a"
      }
    },
    {
      "cell_type": "markdown",
      "source": [
        "#Random Forrest"
      ],
      "metadata": {
        "id": "ZvZ-yqOHEY7J"
      }
    },
    {
      "cell_type": "markdown",
      "source": [
        "With PCA:"
      ],
      "metadata": {
        "id": "YWQS2zkAEbfA"
      }
    },
    {
      "cell_type": "code",
      "source": [
        "from sklearn.ensemble import RandomForestRegressor"
      ],
      "metadata": {
        "id": "bWT-j-UhEbJw"
      },
      "execution_count": 119,
      "outputs": []
    },
    {
      "cell_type": "code",
      "source": [
        "#instantiating random forrest\n",
        "rf = RandomForestRegressor()\n",
        "rf_pipe = make_pipeline(scaler, pca, rf)#creating a pipeline\n",
        "rf_pipe.fit(X_train, y_train) #fitting"
      ],
      "metadata": {
        "colab": {
          "base_uri": "https://localhost:8080/",
          "height": 0
        },
        "id": "frPXjPaoFDw1",
        "outputId": "e326d152-4eda-4d3d-f1f1-f5675a1e9df8"
      },
      "execution_count": 120,
      "outputs": [
        {
          "output_type": "execute_result",
          "data": {
            "text/plain": [
              "Pipeline(steps=[('standardscaler', StandardScaler()),\n",
              "                ('pca', PCA(n_components=0.95)),\n",
              "                ('randomforestregressor', RandomForestRegressor())])"
            ]
          },
          "metadata": {},
          "execution_count": 120
        }
      ]
    },
    {
      "cell_type": "code",
      "source": [
        "#obtaining score for my model\n",
        "print('Training accuracy:', rf_pipe.score(X_train, y_train))\n",
        "print('Testing accuracy:', rf_pipe.score(X_test, y_test))"
      ],
      "metadata": {
        "colab": {
          "base_uri": "https://localhost:8080/",
          "height": 0
        },
        "id": "g26bU7axFbvA",
        "outputId": "31d4737f-45f6-45d5-bc79-d3e57b2cc991"
      },
      "execution_count": 121,
      "outputs": [
        {
          "output_type": "stream",
          "name": "stdout",
          "text": [
            "Training accuracy: 0.9048820668318618\n",
            "Testing accuracy: 0.29045111948431046\n"
          ]
        }
      ]
    },
    {
      "cell_type": "markdown",
      "source": [
        "Without PCA:"
      ],
      "metadata": {
        "id": "tUn-yJuOFnvZ"
      }
    },
    {
      "cell_type": "code",
      "source": [
        "#instantiating random forrest\n",
        "rf = RandomForestRegressor()\n",
        "rf_pipe = make_pipeline(scaler, rf)#creating a pipeline\n",
        "rf_pipe.fit(X_train, y_train) #fitting"
      ],
      "metadata": {
        "colab": {
          "base_uri": "https://localhost:8080/",
          "height": 0
        },
        "id": "jJWWmIhlFqHL",
        "outputId": "ea8909a7-674a-42be-b2d1-d7a94a8860dd"
      },
      "execution_count": 122,
      "outputs": [
        {
          "output_type": "execute_result",
          "data": {
            "text/plain": [
              "Pipeline(steps=[('standardscaler', StandardScaler()),\n",
              "                ('randomforestregressor', RandomForestRegressor())])"
            ]
          },
          "metadata": {},
          "execution_count": 122
        }
      ]
    },
    {
      "cell_type": "code",
      "source": [
        "#obtaining score for my model\n",
        "print('Training accuracy:', rf_pipe.score(X_train, y_train))\n",
        "print('Testing accuracy:', rf_pipe.score(X_test, y_test))"
      ],
      "metadata": {
        "colab": {
          "base_uri": "https://localhost:8080/",
          "height": 0
        },
        "id": "wXWkeF22FsLA",
        "outputId": "d111706a-2807-4501-b825-c6a3d43a1653"
      },
      "execution_count": 123,
      "outputs": [
        {
          "output_type": "stream",
          "name": "stdout",
          "text": [
            "Training accuracy: 0.9763793466688971\n",
            "Testing accuracy: 0.8331243767892835\n"
          ]
        }
      ]
    },
    {
      "cell_type": "markdown",
      "source": [
        "#Findings and choice of production model:\n",
        "\n",
        "*   KMeans model with 2 clusters performance: 0.18363826197079378\n",
        "\n",
        "*   Logistic Regression with PCA: 0.9490500863557858\n",
        "*   Logistic Regression without PCA: 0.9879101899827288\n",
        "\n",
        "*   KNN Model with PCA: 0.18393782383419688\n",
        "*   KNN Model without PCA: 0.18998272884283246\n",
        "\n",
        "*   LinearRegression with PCA: \n",
        "\n",
        "Training: 0.16592114659779855 \n",
        "Test: 0.11571676362065952\n",
        "\n",
        "*   LinearRegression without PCA: \n",
        "\n",
        "Training: 0.1666819894170397\n",
        "Testing: 0.11021787508223613\n",
        "\n",
        "*   Random Forrest with PCA: \n",
        "\n",
        "Train: 0.9048820668318618\n",
        "Test: 0.29045111948431046\n",
        "\n",
        "\n",
        "*   Random Forrest without PCA:\n",
        "\n",
        "Train: 0.9763793466688971\n",
        "Test: 0.8331243767892835\n",
        "\n",
        "\n",
        "The KMeans, KNN, Linnear regression models would not be useful models as they scored below 60% in the teen number ranges. Their performance was dissatisfactory.\n",
        "\n",
        "The Logistic regression without PCA performed well with a 0.98% \n",
        "\n",
        "#Choice of model: \n",
        "In my opinion I would say that the random forrest without PCA performed best as it had a 0.97% training score and 0.83% testing score which is in the higher spectrum of accuracy.\n",
        "\n",
        "\n",
        "\n",
        "\n",
        "\n",
        "\n"
      ],
      "metadata": {
        "id": "g2Cr6jUwGobN"
      }
    }
  ]
}