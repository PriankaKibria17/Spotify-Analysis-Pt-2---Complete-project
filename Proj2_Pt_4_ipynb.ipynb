{
  "nbformat": 4,
  "nbformat_minor": 0,
  "metadata": {
    "colab": {
      "name": "Proj2 - Pt 4_ipynb",
      "provenance": [],
      "collapsed_sections": [],
      "authorship_tag": "ABX9TyOTRAXemfmIGOg2Ae2/FuMg",
      "include_colab_link": true
    },
    "kernelspec": {
      "name": "python3",
      "display_name": "Python 3"
    },
    "language_info": {
      "name": "python"
    }
  },
  "cells": [
    {
      "cell_type": "markdown",
      "metadata": {
        "id": "view-in-github",
        "colab_type": "text"
      },
      "source": [
        "<a href=\"https://colab.research.google.com/github/PriankaKibria17/Spotify_Analysis/blob/main/Proj2_Pt_4_ipynb.ipynb\" target=\"_parent\"><img src=\"https://colab.research.google.com/assets/colab-badge.svg\" alt=\"Open In Colab\"/></a>"
      ]
    },
    {
      "cell_type": "markdown",
      "source": [
        "This data contains songs that have been played most frequently and have reached the Top 200 Weekly Global charts of spotify.\n",
        "\n",
        "source: https://www.kaggle.com/datasets/sashankpillai/spotify-top-200-charts-20202021/code "
      ],
      "metadata": {
        "id": "DxXsLwT9tBso"
      }
    },
    {
      "cell_type": "code",
      "execution_count": 125,
      "metadata": {
        "colab": {
          "base_uri": "https://localhost:8080/"
        },
        "id": "jTuXrfyts1zH",
        "outputId": "85e1b146-ed5b-4fd5-c22f-fe2ac4e620f8"
      },
      "outputs": [
        {
          "output_type": "stream",
          "name": "stdout",
          "text": [
            "Drive already mounted at /content/drive; to attempt to forcibly remount, call drive.mount(\"/content/drive\", force_remount=True).\n"
          ]
        }
      ],
      "source": [
        "from google.colab import drive\n",
        "drive.mount('/content/drive')"
      ]
    },
    {
      "cell_type": "code",
      "source": [
        "import pandas as pd\n",
        "import numpy as np\n",
        "import matplotlib.pyplot as plt\n",
        "import seaborn as sns\n",
        "from sklearn.model_selection import train_test_split\n",
        "from sklearn.preprocessing import StandardScaler\n",
        "from sklearn.neighbors import KNeighborsClassifier\n",
        "from sklearn.linear_model import LinearRegression \n",
        "from sklearn.decomposition import PCA\n",
        "from sklearn.pipeline import make_pipeline\n",
        "from sklearn.datasets import fetch_openml\n",
        "from sklearn.model_selection import GridSearchCV, RandomizedSearchCV\n",
        "from sklearn.metrics import accuracy_score, classification_report"
      ],
      "metadata": {
        "id": "SBfaAqfhtb7W"
      },
      "execution_count": 170,
      "outputs": []
    },
    {
      "cell_type": "code",
      "source": [
        "spotify = pd.read_csv('/content/drive/MyDrive/data/spotify_dataset.csv')\n",
        "spotify.head()"
      ],
      "metadata": {
        "colab": {
          "base_uri": "https://localhost:8080/",
          "height": 560
        },
        "id": "Ow24CzCktqxg",
        "outputId": "ffbb3ddb-8ee1-4e48-985c-4dfd7dde1818"
      },
      "execution_count": 127,
      "outputs": [
        {
          "output_type": "execute_result",
          "data": {
            "text/plain": [
              "   Index  Highest Charting Position  Number of Times Charted  \\\n",
              "0      1                          1                        8   \n",
              "1      2                          2                        3   \n",
              "2      3                          1                       11   \n",
              "3      4                          3                        5   \n",
              "4      5                          5                        1   \n",
              "\n",
              "  Week of Highest Charting                          Song Name     Streams  \\\n",
              "0   2021-07-23--2021-07-30                            Beggin'  48,633,449   \n",
              "1   2021-07-23--2021-07-30          STAY (with Justin Bieber)  47,248,719   \n",
              "2   2021-06-25--2021-07-02                           good 4 u  40,162,559   \n",
              "3   2021-07-02--2021-07-09                         Bad Habits  37,799,456   \n",
              "4   2021-07-23--2021-07-30  INDUSTRY BABY (feat. Jack Harlow)  33,948,454   \n",
              "\n",
              "           Artist Artist Followers                 Song ID  \\\n",
              "0        Måneskin          3377762  3Wrjm47oTz2sjIgck11l5e   \n",
              "1   The Kid LAROI          2230022  5HCyWlXZPP0y6Gqq8TgA20   \n",
              "2  Olivia Rodrigo          6266514  4ZtFanR9U6ndgddUvNcjcG   \n",
              "3      Ed Sheeran         83293380  6PQ88X9TkUIAUIZJHW2upE   \n",
              "4       Lil Nas X          5473565  27NovPIUIRrOZoCHxABJwK   \n",
              "\n",
              "                                    Genre  ... Danceability Energy Loudness  \\\n",
              "0  ['indie rock italiano', 'italian pop']  ...        0.714    0.8   -4.808   \n",
              "1                  ['australian hip hop']  ...        0.591  0.764   -5.484   \n",
              "2                                 ['pop']  ...        0.563  0.664   -5.044   \n",
              "3                       ['pop', 'uk pop']  ...        0.808  0.897   -3.712   \n",
              "4           ['lgbtq+ hip hop', 'pop rap']  ...        0.736  0.704   -7.409   \n",
              "\n",
              "  Speechiness Acousticness Liveness    Tempo Duration (ms) Valence  Chord  \n",
              "0      0.0504        0.127    0.359  134.002        211560   0.589      B  \n",
              "1      0.0483       0.0383    0.103  169.928        141806   0.478  C#/Db  \n",
              "2       0.154        0.335   0.0849  166.928        178147   0.688      A  \n",
              "3      0.0348       0.0469    0.364  126.026        231041   0.591      B  \n",
              "4      0.0615       0.0203   0.0501  149.995        212000   0.894  D#/Eb  \n",
              "\n",
              "[5 rows x 23 columns]"
            ],
            "text/html": [
              "\n",
              "  <div id=\"df-05b83ad3-9d2c-475d-9804-8a84dc48153b\">\n",
              "    <div class=\"colab-df-container\">\n",
              "      <div>\n",
              "<style scoped>\n",
              "    .dataframe tbody tr th:only-of-type {\n",
              "        vertical-align: middle;\n",
              "    }\n",
              "\n",
              "    .dataframe tbody tr th {\n",
              "        vertical-align: top;\n",
              "    }\n",
              "\n",
              "    .dataframe thead th {\n",
              "        text-align: right;\n",
              "    }\n",
              "</style>\n",
              "<table border=\"1\" class=\"dataframe\">\n",
              "  <thead>\n",
              "    <tr style=\"text-align: right;\">\n",
              "      <th></th>\n",
              "      <th>Index</th>\n",
              "      <th>Highest Charting Position</th>\n",
              "      <th>Number of Times Charted</th>\n",
              "      <th>Week of Highest Charting</th>\n",
              "      <th>Song Name</th>\n",
              "      <th>Streams</th>\n",
              "      <th>Artist</th>\n",
              "      <th>Artist Followers</th>\n",
              "      <th>Song ID</th>\n",
              "      <th>Genre</th>\n",
              "      <th>...</th>\n",
              "      <th>Danceability</th>\n",
              "      <th>Energy</th>\n",
              "      <th>Loudness</th>\n",
              "      <th>Speechiness</th>\n",
              "      <th>Acousticness</th>\n",
              "      <th>Liveness</th>\n",
              "      <th>Tempo</th>\n",
              "      <th>Duration (ms)</th>\n",
              "      <th>Valence</th>\n",
              "      <th>Chord</th>\n",
              "    </tr>\n",
              "  </thead>\n",
              "  <tbody>\n",
              "    <tr>\n",
              "      <th>0</th>\n",
              "      <td>1</td>\n",
              "      <td>1</td>\n",
              "      <td>8</td>\n",
              "      <td>2021-07-23--2021-07-30</td>\n",
              "      <td>Beggin'</td>\n",
              "      <td>48,633,449</td>\n",
              "      <td>Måneskin</td>\n",
              "      <td>3377762</td>\n",
              "      <td>3Wrjm47oTz2sjIgck11l5e</td>\n",
              "      <td>['indie rock italiano', 'italian pop']</td>\n",
              "      <td>...</td>\n",
              "      <td>0.714</td>\n",
              "      <td>0.8</td>\n",
              "      <td>-4.808</td>\n",
              "      <td>0.0504</td>\n",
              "      <td>0.127</td>\n",
              "      <td>0.359</td>\n",
              "      <td>134.002</td>\n",
              "      <td>211560</td>\n",
              "      <td>0.589</td>\n",
              "      <td>B</td>\n",
              "    </tr>\n",
              "    <tr>\n",
              "      <th>1</th>\n",
              "      <td>2</td>\n",
              "      <td>2</td>\n",
              "      <td>3</td>\n",
              "      <td>2021-07-23--2021-07-30</td>\n",
              "      <td>STAY (with Justin Bieber)</td>\n",
              "      <td>47,248,719</td>\n",
              "      <td>The Kid LAROI</td>\n",
              "      <td>2230022</td>\n",
              "      <td>5HCyWlXZPP0y6Gqq8TgA20</td>\n",
              "      <td>['australian hip hop']</td>\n",
              "      <td>...</td>\n",
              "      <td>0.591</td>\n",
              "      <td>0.764</td>\n",
              "      <td>-5.484</td>\n",
              "      <td>0.0483</td>\n",
              "      <td>0.0383</td>\n",
              "      <td>0.103</td>\n",
              "      <td>169.928</td>\n",
              "      <td>141806</td>\n",
              "      <td>0.478</td>\n",
              "      <td>C#/Db</td>\n",
              "    </tr>\n",
              "    <tr>\n",
              "      <th>2</th>\n",
              "      <td>3</td>\n",
              "      <td>1</td>\n",
              "      <td>11</td>\n",
              "      <td>2021-06-25--2021-07-02</td>\n",
              "      <td>good 4 u</td>\n",
              "      <td>40,162,559</td>\n",
              "      <td>Olivia Rodrigo</td>\n",
              "      <td>6266514</td>\n",
              "      <td>4ZtFanR9U6ndgddUvNcjcG</td>\n",
              "      <td>['pop']</td>\n",
              "      <td>...</td>\n",
              "      <td>0.563</td>\n",
              "      <td>0.664</td>\n",
              "      <td>-5.044</td>\n",
              "      <td>0.154</td>\n",
              "      <td>0.335</td>\n",
              "      <td>0.0849</td>\n",
              "      <td>166.928</td>\n",
              "      <td>178147</td>\n",
              "      <td>0.688</td>\n",
              "      <td>A</td>\n",
              "    </tr>\n",
              "    <tr>\n",
              "      <th>3</th>\n",
              "      <td>4</td>\n",
              "      <td>3</td>\n",
              "      <td>5</td>\n",
              "      <td>2021-07-02--2021-07-09</td>\n",
              "      <td>Bad Habits</td>\n",
              "      <td>37,799,456</td>\n",
              "      <td>Ed Sheeran</td>\n",
              "      <td>83293380</td>\n",
              "      <td>6PQ88X9TkUIAUIZJHW2upE</td>\n",
              "      <td>['pop', 'uk pop']</td>\n",
              "      <td>...</td>\n",
              "      <td>0.808</td>\n",
              "      <td>0.897</td>\n",
              "      <td>-3.712</td>\n",
              "      <td>0.0348</td>\n",
              "      <td>0.0469</td>\n",
              "      <td>0.364</td>\n",
              "      <td>126.026</td>\n",
              "      <td>231041</td>\n",
              "      <td>0.591</td>\n",
              "      <td>B</td>\n",
              "    </tr>\n",
              "    <tr>\n",
              "      <th>4</th>\n",
              "      <td>5</td>\n",
              "      <td>5</td>\n",
              "      <td>1</td>\n",
              "      <td>2021-07-23--2021-07-30</td>\n",
              "      <td>INDUSTRY BABY (feat. Jack Harlow)</td>\n",
              "      <td>33,948,454</td>\n",
              "      <td>Lil Nas X</td>\n",
              "      <td>5473565</td>\n",
              "      <td>27NovPIUIRrOZoCHxABJwK</td>\n",
              "      <td>['lgbtq+ hip hop', 'pop rap']</td>\n",
              "      <td>...</td>\n",
              "      <td>0.736</td>\n",
              "      <td>0.704</td>\n",
              "      <td>-7.409</td>\n",
              "      <td>0.0615</td>\n",
              "      <td>0.0203</td>\n",
              "      <td>0.0501</td>\n",
              "      <td>149.995</td>\n",
              "      <td>212000</td>\n",
              "      <td>0.894</td>\n",
              "      <td>D#/Eb</td>\n",
              "    </tr>\n",
              "  </tbody>\n",
              "</table>\n",
              "<p>5 rows × 23 columns</p>\n",
              "</div>\n",
              "      <button class=\"colab-df-convert\" onclick=\"convertToInteractive('df-05b83ad3-9d2c-475d-9804-8a84dc48153b')\"\n",
              "              title=\"Convert this dataframe to an interactive table.\"\n",
              "              style=\"display:none;\">\n",
              "        \n",
              "  <svg xmlns=\"http://www.w3.org/2000/svg\" height=\"24px\"viewBox=\"0 0 24 24\"\n",
              "       width=\"24px\">\n",
              "    <path d=\"M0 0h24v24H0V0z\" fill=\"none\"/>\n",
              "    <path d=\"M18.56 5.44l.94 2.06.94-2.06 2.06-.94-2.06-.94-.94-2.06-.94 2.06-2.06.94zm-11 1L8.5 8.5l.94-2.06 2.06-.94-2.06-.94L8.5 2.5l-.94 2.06-2.06.94zm10 10l.94 2.06.94-2.06 2.06-.94-2.06-.94-.94-2.06-.94 2.06-2.06.94z\"/><path d=\"M17.41 7.96l-1.37-1.37c-.4-.4-.92-.59-1.43-.59-.52 0-1.04.2-1.43.59L10.3 9.45l-7.72 7.72c-.78.78-.78 2.05 0 2.83L4 21.41c.39.39.9.59 1.41.59.51 0 1.02-.2 1.41-.59l7.78-7.78 2.81-2.81c.8-.78.8-2.07 0-2.86zM5.41 20L4 18.59l7.72-7.72 1.47 1.35L5.41 20z\"/>\n",
              "  </svg>\n",
              "      </button>\n",
              "      \n",
              "  <style>\n",
              "    .colab-df-container {\n",
              "      display:flex;\n",
              "      flex-wrap:wrap;\n",
              "      gap: 12px;\n",
              "    }\n",
              "\n",
              "    .colab-df-convert {\n",
              "      background-color: #E8F0FE;\n",
              "      border: none;\n",
              "      border-radius: 50%;\n",
              "      cursor: pointer;\n",
              "      display: none;\n",
              "      fill: #1967D2;\n",
              "      height: 32px;\n",
              "      padding: 0 0 0 0;\n",
              "      width: 32px;\n",
              "    }\n",
              "\n",
              "    .colab-df-convert:hover {\n",
              "      background-color: #E2EBFA;\n",
              "      box-shadow: 0px 1px 2px rgba(60, 64, 67, 0.3), 0px 1px 3px 1px rgba(60, 64, 67, 0.15);\n",
              "      fill: #174EA6;\n",
              "    }\n",
              "\n",
              "    [theme=dark] .colab-df-convert {\n",
              "      background-color: #3B4455;\n",
              "      fill: #D2E3FC;\n",
              "    }\n",
              "\n",
              "    [theme=dark] .colab-df-convert:hover {\n",
              "      background-color: #434B5C;\n",
              "      box-shadow: 0px 1px 3px 1px rgba(0, 0, 0, 0.15);\n",
              "      filter: drop-shadow(0px 1px 2px rgba(0, 0, 0, 0.3));\n",
              "      fill: #FFFFFF;\n",
              "    }\n",
              "  </style>\n",
              "\n",
              "      <script>\n",
              "        const buttonEl =\n",
              "          document.querySelector('#df-05b83ad3-9d2c-475d-9804-8a84dc48153b button.colab-df-convert');\n",
              "        buttonEl.style.display =\n",
              "          google.colab.kernel.accessAllowed ? 'block' : 'none';\n",
              "\n",
              "        async function convertToInteractive(key) {\n",
              "          const element = document.querySelector('#df-05b83ad3-9d2c-475d-9804-8a84dc48153b');\n",
              "          const dataTable =\n",
              "            await google.colab.kernel.invokeFunction('convertToInteractive',\n",
              "                                                     [key], {});\n",
              "          if (!dataTable) return;\n",
              "\n",
              "          const docLinkHtml = 'Like what you see? Visit the ' +\n",
              "            '<a target=\"_blank\" href=https://colab.research.google.com/notebooks/data_table.ipynb>data table notebook</a>'\n",
              "            + ' to learn more about interactive tables.';\n",
              "          element.innerHTML = '';\n",
              "          dataTable['output_type'] = 'display_data';\n",
              "          await google.colab.output.renderOutput(dataTable, element);\n",
              "          const docLink = document.createElement('div');\n",
              "          docLink.innerHTML = docLinkHtml;\n",
              "          element.appendChild(docLink);\n",
              "        }\n",
              "      </script>\n",
              "    </div>\n",
              "  </div>\n",
              "  "
            ]
          },
          "metadata": {},
          "execution_count": 127
        }
      ]
    },
    {
      "cell_type": "code",
      "source": [
        "# There are 3 integer columns and the rest are objects. The data types of some of the numeric columns will have to be changed.\n",
        "spotify.info()"
      ],
      "metadata": {
        "colab": {
          "base_uri": "https://localhost:8080/"
        },
        "id": "1O1WZ2Dytr6Q",
        "outputId": "85d74f56-38d9-43ab-fa7c-abc96c9de986"
      },
      "execution_count": 128,
      "outputs": [
        {
          "output_type": "stream",
          "name": "stdout",
          "text": [
            "<class 'pandas.core.frame.DataFrame'>\n",
            "RangeIndex: 1556 entries, 0 to 1555\n",
            "Data columns (total 23 columns):\n",
            " #   Column                     Non-Null Count  Dtype \n",
            "---  ------                     --------------  ----- \n",
            " 0   Index                      1556 non-null   int64 \n",
            " 1   Highest Charting Position  1556 non-null   int64 \n",
            " 2   Number of Times Charted    1556 non-null   int64 \n",
            " 3   Week of Highest Charting   1556 non-null   object\n",
            " 4   Song Name                  1556 non-null   object\n",
            " 5   Streams                    1556 non-null   object\n",
            " 6   Artist                     1556 non-null   object\n",
            " 7   Artist Followers           1556 non-null   object\n",
            " 8   Song ID                    1556 non-null   object\n",
            " 9   Genre                      1556 non-null   object\n",
            " 10  Release Date               1556 non-null   object\n",
            " 11  Weeks Charted              1556 non-null   object\n",
            " 12  Popularity                 1556 non-null   object\n",
            " 13  Danceability               1556 non-null   object\n",
            " 14  Energy                     1556 non-null   object\n",
            " 15  Loudness                   1556 non-null   object\n",
            " 16  Speechiness                1556 non-null   object\n",
            " 17  Acousticness               1556 non-null   object\n",
            " 18  Liveness                   1556 non-null   object\n",
            " 19  Tempo                      1556 non-null   object\n",
            " 20  Duration (ms)              1556 non-null   object\n",
            " 21  Valence                    1556 non-null   object\n",
            " 22  Chord                      1556 non-null   object\n",
            "dtypes: int64(3), object(20)\n",
            "memory usage: 279.7+ KB\n"
          ]
        }
      ]
    },
    {
      "cell_type": "code",
      "source": [
        "#No duplicates\n",
        "spotify.duplicated().sum()"
      ],
      "metadata": {
        "colab": {
          "base_uri": "https://localhost:8080/"
        },
        "id": "nQ5NNSAAtuk4",
        "outputId": "69403e2d-828a-48dc-c122-0fb412dcc850"
      },
      "execution_count": 129,
      "outputs": [
        {
          "output_type": "execute_result",
          "data": {
            "text/plain": [
              "0"
            ]
          },
          "metadata": {},
          "execution_count": 129
        }
      ]
    },
    {
      "cell_type": "code",
      "source": [
        "#Dropping unneccessary columns with either no distributing values or unique values that are not needed\n",
        "spotify.drop(columns = ['Index', 'Song ID', 'Chord', 'Week of Highest Charting', 'Weeks Charted', 'Release Date', 'Song Name', 'Artist', 'Genre'], inplace = True)"
      ],
      "metadata": {
        "id": "WM5SgRXFtxG6"
      },
      "execution_count": 130,
      "outputs": []
    },
    {
      "cell_type": "markdown",
      "source": [
        "Changing the data type for:\n",
        "\n",
        "- streams\n",
        "- aritst followers\n",
        "- danceability\n",
        "- energy\n",
        "- loudness\n",
        "- speechiness\n",
        "- acousticness\n",
        "- liveness\n",
        "- tempo\n",
        "- duration\n",
        "- valence\n",
        "\n",
        "Changing the object columns that are numeric."
      ],
      "metadata": {
        "id": "wB21MjRjt6qS"
      }
    },
    {
      "cell_type": "code",
      "source": [
        "#removing the the commas in streams\n",
        "#Code ref: Stackedoverflow\n",
        "spotify.Streams = spotify.Streams.apply(lambda Streams : Streams.replace(',', ''))"
      ],
      "metadata": {
        "id": "v82iyD6Lt5jf"
      },
      "execution_count": 131,
      "outputs": []
    },
    {
      "cell_type": "code",
      "source": [
        "#removing commas, \n",
        "spotify.replace(',','', regex=True, inplace=True)\n",
        "spotify.replace(\"'\",'', regex=True, inplace=True)\n",
        "spotify.replace(\" '' \",'', regex=True, inplace=True)"
      ],
      "metadata": {
        "id": "DNFeU60g-Xst"
      },
      "execution_count": 132,
      "outputs": []
    },
    {
      "cell_type": "code",
      "source": [
        "#renaming column names to remove the space\n",
        "spotify.rename(columns = {'Highest Charting Position':'HighestChartingPosition'}, inplace = True)\n",
        "spotify.rename(columns = {'Number of Times Charted':'NumberofTimesCharted'}, inplace = True)\n",
        "spotify.rename(columns = {'Artist Followers':'ArtistFollowers'}, inplace = True)\n",
        "spotify.rename(columns = {'Duration (ms)':'Duration(ms)'}, inplace = True)"
      ],
      "metadata": {
        "id": "-vs8smlF4EsC"
      },
      "execution_count": 133,
      "outputs": []
    },
    {
      "cell_type": "code",
      "source": [
        "spotify['Streams'] = spotify['Streams'].astype('int')"
      ],
      "metadata": {
        "id": "tjwpuycuuFQ2"
      },
      "execution_count": 134,
      "outputs": []
    },
    {
      "cell_type": "code",
      "source": [
        "#converting datatypes\n",
        "Allobjectcolumns = ['ArtistFollowers', 'Danceability', 'Energy', 'Loudness', 'Speechiness', 'Acousticness', 'Liveness', 'Tempo', 'Duration(ms)', 'Valence', 'Popularity']\n",
        "#code ref for loop: Stackedoverflow + Kaggle\n",
        "for each_col in Allobjectcolumns:\n",
        "  spotify[each_col] = pd.to_numeric(spotify[each_col], errors = 'coerce')"
      ],
      "metadata": {
        "id": "b6VRpH4NuHlU"
      },
      "execution_count": 135,
      "outputs": []
    },
    {
      "cell_type": "code",
      "source": [
        "#identifying null columns\n",
        "spotify.isnull().sum()"
      ],
      "metadata": {
        "colab": {
          "base_uri": "https://localhost:8080/"
        },
        "id": "3yfok_HRuPIW",
        "outputId": "c2c0e930-b53d-4f6f-c457-571a074b1b16"
      },
      "execution_count": 136,
      "outputs": [
        {
          "output_type": "execute_result",
          "data": {
            "text/plain": [
              "HighestChartingPosition     0\n",
              "NumberofTimesCharted        0\n",
              "Streams                     0\n",
              "ArtistFollowers            11\n",
              "Popularity                 11\n",
              "Danceability               11\n",
              "Energy                     11\n",
              "Loudness                   11\n",
              "Speechiness                11\n",
              "Acousticness               11\n",
              "Liveness                   11\n",
              "Tempo                      11\n",
              "Duration(ms)               11\n",
              "Valence                    11\n",
              "dtype: int64"
            ]
          },
          "metadata": {},
          "execution_count": 136
        }
      ]
    },
    {
      "cell_type": "code",
      "source": [
        "#removing all null values since I the numeric columns are imperative\n",
        "spotify.dropna(inplace = True)"
      ],
      "metadata": {
        "id": "CsMY-FMKuRfi"
      },
      "execution_count": 137,
      "outputs": []
    },
    {
      "cell_type": "code",
      "source": [
        "spotify.info()"
      ],
      "metadata": {
        "colab": {
          "base_uri": "https://localhost:8080/"
        },
        "id": "1TI4V9HtuVyZ",
        "outputId": "92805a66-3b85-4c3d-f4b7-caeea4cac970"
      },
      "execution_count": 138,
      "outputs": [
        {
          "output_type": "stream",
          "name": "stdout",
          "text": [
            "<class 'pandas.core.frame.DataFrame'>\n",
            "Int64Index: 1545 entries, 0 to 1555\n",
            "Data columns (total 14 columns):\n",
            " #   Column                   Non-Null Count  Dtype  \n",
            "---  ------                   --------------  -----  \n",
            " 0   HighestChartingPosition  1545 non-null   int64  \n",
            " 1   NumberofTimesCharted     1545 non-null   int64  \n",
            " 2   Streams                  1545 non-null   int64  \n",
            " 3   ArtistFollowers          1545 non-null   float64\n",
            " 4   Popularity               1545 non-null   float64\n",
            " 5   Danceability             1545 non-null   float64\n",
            " 6   Energy                   1545 non-null   float64\n",
            " 7   Loudness                 1545 non-null   float64\n",
            " 8   Speechiness              1545 non-null   float64\n",
            " 9   Acousticness             1545 non-null   float64\n",
            " 10  Liveness                 1545 non-null   float64\n",
            " 11  Tempo                    1545 non-null   float64\n",
            " 12  Duration(ms)             1545 non-null   float64\n",
            " 13  Valence                  1545 non-null   float64\n",
            "dtypes: float64(11), int64(3)\n",
            "memory usage: 181.1 KB\n"
          ]
        }
      ]
    },
    {
      "cell_type": "code",
      "source": [
        "#the target is streams\n",
        "X = spotify.drop(columns = 'Streams')\n",
        "y = spotify['Streams']"
      ],
      "metadata": {
        "id": "A9wo4txkuzjI"
      },
      "execution_count": 139,
      "outputs": []
    },
    {
      "cell_type": "code",
      "source": [
        "X_train, X_test, y_train, y_test = train_test_split(X,y, random_state= 75) "
      ],
      "metadata": {
        "id": "i3IUjsp5u-8v"
      },
      "execution_count": 140,
      "outputs": []
    },
    {
      "cell_type": "code",
      "source": [
        "#getting the shape of the data\n",
        "print('X Train:', X_train.shape) #the X training set contains 1158 data\n",
        "print('y Train:', y_train.shape) #the y training set contains 387 data\n",
        "print('X_test:', X_test.shape)#the X testing set contains 1158 data\n",
        "print('y_test:', y_test.shape) #the y testing set contains 387 data"
      ],
      "metadata": {
        "colab": {
          "base_uri": "https://localhost:8080/"
        },
        "id": "ElYwUOCmyn3t",
        "outputId": "7452f821-3b85-43d5-eefd-582998fc64c7"
      },
      "execution_count": 141,
      "outputs": [
        {
          "output_type": "stream",
          "name": "stdout",
          "text": [
            "X Train: (1158, 13)\n",
            "y Train: (1158,)\n",
            "X_test: (387, 13)\n",
            "y_test: (387,)\n"
          ]
        }
      ]
    },
    {
      "cell_type": "code",
      "source": [
        "#scaling features for future models\n",
        "scaler = StandardScaler()\n",
        "scaler.fit(X_train)"
      ],
      "metadata": {
        "colab": {
          "base_uri": "https://localhost:8080/"
        },
        "id": "nbUyuqw_tnId",
        "outputId": "3d0ce186-4e1f-4e51-96ab-147d407e0250"
      },
      "execution_count": 142,
      "outputs": [
        {
          "output_type": "execute_result",
          "data": {
            "text/plain": [
              "StandardScaler()"
            ]
          },
          "metadata": {},
          "execution_count": 142
        }
      ]
    },
    {
      "cell_type": "markdown",
      "source": [
        "#modeling"
      ],
      "metadata": {
        "id": "6o3KnKdvuULE"
      }
    },
    {
      "cell_type": "markdown",
      "source": [
        "Test 1"
      ],
      "metadata": {
        "id": "ggodZVDbwTnM"
      }
    },
    {
      "cell_type": "code",
      "source": [
        "rfr = RandomForestRegressor() #instantiating randomforestregressor\n",
        "rfr_pipe = make_pipeline(scaler, rfr) #creating a pipeline\n",
        "rfr_pipe.fit(X_train, y_train) #fitting the model"
      ],
      "metadata": {
        "colab": {
          "base_uri": "https://localhost:8080/"
        },
        "id": "b1_UOejcuSJO",
        "outputId": "1a890403-8f19-4a30-f3d6-440ec1fd8006"
      },
      "execution_count": 143,
      "outputs": [
        {
          "output_type": "execute_result",
          "data": {
            "text/plain": [
              "Pipeline(steps=[('standardscaler', StandardScaler()),\n",
              "                ('randomforestregressor', RandomForestRegressor())])"
            ]
          },
          "metadata": {},
          "execution_count": 143
        }
      ]
    },
    {
      "cell_type": "code",
      "source": [
        "#obtaining score for my model\n",
        "print('Training accuracy:', rfr_pipe.score(X_train, y_train))\n",
        "print('Testing accuracy:', rfr_pipe.score(X_test, y_test))"
      ],
      "metadata": {
        "colab": {
          "base_uri": "https://localhost:8080/"
        },
        "id": "nTwITCY5wLPn",
        "outputId": "fd99bf82-5cf8-4e85-bc41-5aece42b338f"
      },
      "execution_count": 144,
      "outputs": [
        {
          "output_type": "stream",
          "name": "stdout",
          "text": [
            "Training accuracy: 0.965853733901256\n",
            "Testing accuracy: 0.8745045406666199\n"
          ]
        }
      ]
    },
    {
      "cell_type": "markdown",
      "source": [
        "The original score works - but I will attempt to see if I hypertune for a better score"
      ],
      "metadata": {
        "id": "N1nTy71X9EEj"
      }
    },
    {
      "cell_type": "code",
      "source": [
        "rfr_pipe.get_params() #taking a look at the rfr params to find the ones best suited for optimal results"
      ],
      "metadata": {
        "colab": {
          "base_uri": "https://localhost:8080/"
        },
        "id": "3Xkzt8D-9MDq",
        "outputId": "d79466aa-1374-4603-fa16-15efcbe87514"
      },
      "execution_count": 161,
      "outputs": [
        {
          "output_type": "execute_result",
          "data": {
            "text/plain": [
              "{'memory': None,\n",
              " 'randomforestregressor': RandomForestRegressor(),\n",
              " 'randomforestregressor__bootstrap': True,\n",
              " 'randomforestregressor__ccp_alpha': 0.0,\n",
              " 'randomforestregressor__criterion': 'squared_error',\n",
              " 'randomforestregressor__max_depth': None,\n",
              " 'randomforestregressor__max_features': 'auto',\n",
              " 'randomforestregressor__max_leaf_nodes': None,\n",
              " 'randomforestregressor__max_samples': None,\n",
              " 'randomforestregressor__min_impurity_decrease': 0.0,\n",
              " 'randomforestregressor__min_samples_leaf': 1,\n",
              " 'randomforestregressor__min_samples_split': 2,\n",
              " 'randomforestregressor__min_weight_fraction_leaf': 0.0,\n",
              " 'randomforestregressor__n_estimators': 100,\n",
              " 'randomforestregressor__n_jobs': None,\n",
              " 'randomforestregressor__oob_score': False,\n",
              " 'randomforestregressor__random_state': None,\n",
              " 'randomforestregressor__verbose': 0,\n",
              " 'randomforestregressor__warm_start': False,\n",
              " 'standardscaler': StandardScaler(),\n",
              " 'standardscaler__copy': True,\n",
              " 'standardscaler__with_mean': True,\n",
              " 'standardscaler__with_std': True,\n",
              " 'steps': [('standardscaler', StandardScaler()),\n",
              "  ('randomforestregressor', RandomForestRegressor())],\n",
              " 'verbose': False}"
            ]
          },
          "metadata": {},
          "execution_count": 161
        }
      ]
    },
    {
      "cell_type": "code",
      "source": [
        "#creatng a list of the parameters I want and naming it params\n",
        "params = {'randomforestregressor__bootstrap': [True],\n",
        "          'randomforestregressor__min_samples_leaf': [1],\n",
        "          'randomforestregressor__min_samples_split': [2],\n",
        "          'randomforestregressor__n_estimators': [100]}"
      ],
      "metadata": {
        "id": "nCitQGZU9fhr"
      },
      "execution_count": 164,
      "outputs": []
    },
    {
      "cell_type": "code",
      "source": [
        "rfr_grid = GridSearchCV(rfr_pipe, params) #instantiating gridsearch and creating pipeline\n",
        "rfr_grid.fit(X_train, y_train) #fitting the grid on the model"
      ],
      "metadata": {
        "colab": {
          "base_uri": "https://localhost:8080/"
        },
        "id": "sET6PE2D90VD",
        "outputId": "12b034bb-bbeb-453d-865c-6b02ed3d4533"
      },
      "execution_count": 166,
      "outputs": [
        {
          "output_type": "execute_result",
          "data": {
            "text/plain": [
              "GridSearchCV(estimator=Pipeline(steps=[('standardscaler', StandardScaler()),\n",
              "                                       ('randomforestregressor',\n",
              "                                        RandomForestRegressor())]),\n",
              "             param_grid={'randomforestregressor__bootstrap': [True],\n",
              "                         'randomforestregressor__min_samples_leaf': [1],\n",
              "                         'randomforestregressor__min_samples_split': [2],\n",
              "                         'randomforestregressor__n_estimators': [100]})"
            ]
          },
          "metadata": {},
          "execution_count": 166
        }
      ]
    },
    {
      "cell_type": "code",
      "source": [
        "rfr_grid.best_params_ #checking the opitmal combinations of parameters"
      ],
      "metadata": {
        "colab": {
          "base_uri": "https://localhost:8080/"
        },
        "id": "IAyztzAk-CMs",
        "outputId": "0e177b2b-e501-493f-bcad-10a98711ef02"
      },
      "execution_count": 167,
      "outputs": [
        {
          "output_type": "execute_result",
          "data": {
            "text/plain": [
              "{'randomforestregressor__bootstrap': True,\n",
              " 'randomforestregressor__min_samples_leaf': 1,\n",
              " 'randomforestregressor__min_samples_split': 2,\n",
              " 'randomforestregressor__n_estimators': 100}"
            ]
          },
          "metadata": {},
          "execution_count": 167
        }
      ]
    },
    {
      "cell_type": "code",
      "source": [
        "#getting the best versions of the model from gridsearch\n",
        "best_rfr = rfr_grid.best_estimator_"
      ],
      "metadata": {
        "id": "cZp3_oj1-ocW"
      },
      "execution_count": 168,
      "outputs": []
    },
    {
      "cell_type": "code",
      "source": [
        "#fitting the predicitions and getting scores\n",
        "best_rfr.predict(X_train)\n",
        "best_rfr.predict(X_test)\n",
        "\n",
        "print('Training accuracy:', best_rfr.score(X_train, y_train))\n",
        "print('Testing accuracy:', best_rfr.score(X_test, y_test))"
      ],
      "metadata": {
        "colab": {
          "base_uri": "https://localhost:8080/"
        },
        "id": "5iZDorVh-cgp",
        "outputId": "89e4bc6e-60a8-4913-fb90-34a1d44fe4c3"
      },
      "execution_count": 174,
      "outputs": [
        {
          "output_type": "stream",
          "name": "stdout",
          "text": [
            "Training accuracy: 0.9684868278552011\n",
            "Testing accuracy: 0.873736178764275\n"
          ]
        }
      ]
    },
    {
      "cell_type": "markdown",
      "source": [
        "The score did not have a significant difference, nonetheless still improved."
      ],
      "metadata": {
        "id": "Cd2Jw4PW_kID"
      }
    },
    {
      "cell_type": "markdown",
      "source": [
        "test 2"
      ],
      "metadata": {
        "id": "2ShZULtEwU7a"
      }
    },
    {
      "cell_type": "code",
      "source": [
        "linreg = LinearRegression() #instantiating LinearRegression\n",
        "linregpipe = make_pipeline(scaler, linreg) #creating a pipeline\n",
        "linregpipe.fit(X_train, y_train) #fitting "
      ],
      "metadata": {
        "colab": {
          "base_uri": "https://localhost:8080/"
        },
        "id": "YXO_zlyJwaY2",
        "outputId": "fb979c89-1ee4-451f-c6ca-2b6c98a260dd"
      },
      "execution_count": 145,
      "outputs": [
        {
          "output_type": "execute_result",
          "data": {
            "text/plain": [
              "Pipeline(steps=[('standardscaler', StandardScaler()),\n",
              "                ('linearregression', LinearRegression())])"
            ]
          },
          "metadata": {},
          "execution_count": 145
        }
      ]
    },
    {
      "cell_type": "code",
      "source": [
        "#obtaining score for my model\n",
        "print('Training accuracy:', linreg_pipe.score(X_train, y_train))\n",
        "print('Testing accuracy:', linreg_pipe.score(X_test, y_test))"
      ],
      "metadata": {
        "colab": {
          "base_uri": "https://localhost:8080/"
        },
        "id": "-85B2EZtxd4W",
        "outputId": "bde73b78-7bf8-4d6b-cc37-0abe2d94a5e9"
      },
      "execution_count": 146,
      "outputs": [
        {
          "output_type": "stream",
          "name": "stdout",
          "text": [
            "Training accuracy: 0.1561831274632005\n",
            "Testing accuracy: 0.17056333091707043\n"
          ]
        }
      ]
    },
    {
      "cell_type": "code",
      "source": [
        "linreg_pipe.get_params()"
      ],
      "metadata": {
        "colab": {
          "base_uri": "https://localhost:8080/"
        },
        "id": "YpOAo9iQ_s-Q",
        "outputId": "a5eaffd2-3d56-41ff-ee0c-050d97477af1"
      },
      "execution_count": 175,
      "outputs": [
        {
          "output_type": "execute_result",
          "data": {
            "text/plain": [
              "{'linearregression': LinearRegression(),\n",
              " 'linearregression__copy_X': True,\n",
              " 'linearregression__fit_intercept': True,\n",
              " 'linearregression__n_jobs': None,\n",
              " 'linearregression__normalize': 'deprecated',\n",
              " 'linearregression__positive': False,\n",
              " 'memory': None,\n",
              " 'standardscaler': StandardScaler(),\n",
              " 'standardscaler__copy': True,\n",
              " 'standardscaler__with_mean': True,\n",
              " 'standardscaler__with_std': True,\n",
              " 'steps': [('standardscaler', StandardScaler()),\n",
              "  ('linearregression', LinearRegression())],\n",
              " 'verbose': False}"
            ]
          },
          "metadata": {},
          "execution_count": 175
        }
      ]
    },
    {
      "cell_type": "code",
      "source": [
        "#creatng a list of the parameters I want and naming it params again\n",
        "params = {'linearregression__copy_X': [True],\n",
        "          'linearregression__fit_intercept': [True],\n",
        "          'linearregression__normalize': ['deprecated'],\n",
        "          'linearregression__positive': [False],\n",
        "          'standardscaler__copy': [True],\n",
        "          'standardscaler__with_mean': [True],\n",
        "          'standardscaler__with_std': [True]}"
      ],
      "metadata": {
        "id": "kzl1p0Dc_w4a"
      },
      "execution_count": 177,
      "outputs": []
    },
    {
      "cell_type": "code",
      "source": [
        "linreg_grid = GridSearchCV(linreg_pipe, params) #instantiating gridsearch and creating pipeline\n",
        "linreg_grid.fit(X_train, y_train) #fitting the grid on the model"
      ],
      "metadata": {
        "colab": {
          "base_uri": "https://localhost:8080/"
        },
        "id": "eePiihOYAVub",
        "outputId": "c8eb1306-522f-4305-8341-751ad9425f9a"
      },
      "execution_count": 178,
      "outputs": [
        {
          "output_type": "execute_result",
          "data": {
            "text/plain": [
              "GridSearchCV(estimator=Pipeline(steps=[('standardscaler', StandardScaler()),\n",
              "                                       ('linearregression',\n",
              "                                        LinearRegression())]),\n",
              "             param_grid={'linearregression__copy_X': [True],\n",
              "                         'linearregression__fit_intercept': [True],\n",
              "                         'linearregression__normalize': ['deprecated'],\n",
              "                         'linearregression__positive': [False],\n",
              "                         'standardscaler__copy': [True],\n",
              "                         'standardscaler__with_mean': [True],\n",
              "                         'standardscaler__with_std': [True]})"
            ]
          },
          "metadata": {},
          "execution_count": 178
        }
      ]
    },
    {
      "cell_type": "code",
      "source": [
        "linreg_grid.best_params_ #checking the opitmal combinations of parameters"
      ],
      "metadata": {
        "colab": {
          "base_uri": "https://localhost:8080/"
        },
        "id": "YJvBE5frAcPq",
        "outputId": "6778baf9-97fa-497a-8773-7c6206bbaff7"
      },
      "execution_count": 180,
      "outputs": [
        {
          "output_type": "execute_result",
          "data": {
            "text/plain": [
              "{'linearregression__copy_X': True,\n",
              " 'linearregression__fit_intercept': True,\n",
              " 'linearregression__normalize': 'deprecated',\n",
              " 'linearregression__positive': False,\n",
              " 'standardscaler__copy': True,\n",
              " 'standardscaler__with_mean': True,\n",
              " 'standardscaler__with_std': True}"
            ]
          },
          "metadata": {},
          "execution_count": 180
        }
      ]
    },
    {
      "cell_type": "code",
      "source": [
        "#getting the best versions of the model from gridsearch\n",
        "best_lr = linreg_grid.best_estimator_"
      ],
      "metadata": {
        "id": "ZA52efs2AgPh"
      },
      "execution_count": 181,
      "outputs": []
    },
    {
      "cell_type": "code",
      "source": [
        "best_lr.predict(X_train)\n",
        "best_lr.predict(X_test)\n",
        "\n",
        "print('Training accuracy:', best_lr.score(X_train, y_train))\n",
        "print('Testing accuracy:', best_lr.score(X_test, y_test))"
      ],
      "metadata": {
        "colab": {
          "base_uri": "https://localhost:8080/"
        },
        "id": "6OwFHnRJAvA-",
        "outputId": "4678a8f1-9a1d-499e-bcf6-5cab3cc7a719"
      },
      "execution_count": 182,
      "outputs": [
        {
          "output_type": "stream",
          "name": "stdout",
          "text": [
            "Training accuracy: 0.15999720440086207\n",
            "Testing accuracy: 0.16587903261320358\n"
          ]
        }
      ]
    },
    {
      "cell_type": "markdown",
      "source": [
        "The score remains low, even with the hypertuning."
      ],
      "metadata": {
        "id": "SmDocK8OA2PV"
      }
    },
    {
      "cell_type": "markdown",
      "source": [
        "#Findings"
      ],
      "metadata": {
        "id": "ZX2m-U4EA7ci"
      }
    },
    {
      "cell_type": "markdown",
      "source": [
        "The RandomForestRegression outperformed the LinearRegression model as it received a higher score which means that it predicted the streams well. In attempts to enhance the LinearRegression model the score remains low."
      ],
      "metadata": {
        "id": "o8mDiJ7RBBV0"
      }
    }
  ]
}